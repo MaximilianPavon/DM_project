{
 "cells": [
  {
   "cell_type": "code",
   "execution_count": 1,
   "metadata": {
    "collapsed": true
   },
   "outputs": [],
   "source": [
    "import analysis\n",
    "import time"
   ]
  },
  {
   "cell_type": "code",
   "execution_count": 2,
   "metadata": {
    "collapsed": true
   },
   "outputs": [],
   "source": [
<<<<<<< HEAD
    "filenames = ['wiki-Vote.txt']"
=======
    "filenames = ['soc-Epinions1.txt']"
>>>>>>> e94d5c6cea0ac548ff54bd1663eb9fb3c723ece2
   ]
  },
  {
   "cell_type": "code",
   "execution_count": 3,
   "metadata": {},
   "outputs": [
    {
     "name": "stdout",
     "output_type": "stream",
     "text": [
      "vertices: 8298 edges: 103689\n",
      "CPU times: user 100 ms, sys: 20 ms, total: 120 ms\n",
      "Wall time: 132 ms\n"
     ]
    }
   ],
   "source": [
    "%%time\n",
    "g = analysis.load_graph(filenames[0], directed=True)\n",
    "print('vertices:', g.num_vertices(), 'edges:', g.num_edges())"
   ]
  },
  {
   "cell_type": "code",
   "execution_count": 6,
   "metadata": {},
   "outputs": [
    {
     "name": "stdout",
     "output_type": "stream",
     "text": [
      "=====LSCC=====\n",
      "LSCC edges: \t 39456\n",
      "LSCC nodes: \t 1300\n",
      "start calculate distances\n",
      "calculate distances done\n",
      "select pairs of permutations/combinations done\n",
      "0.0 %\n",
      "5.0 %\n",
      "10.0 %\n",
      "15.0 %\n",
      "20.0 %\n",
      "25.0 %\n",
      "30.0 %\n",
      "35.0 %\n",
      "40.0 %\n",
      "45.0 %\n",
      "50.0 %\n",
      "55.0 %\n",
      "60.0 %\n",
      "65.0 %\n",
      "70.0 %\n",
      "75.0 %\n",
      "80.0 %\n",
      "85.0 %\n",
      "90.0 %\n",
      "95.0 %\n",
      "median distance:\t 3.0\n",
      "mean distance:\t\t 2.87928288032\n",
      "diameter:\t\t 9\n",
      "effective diameter:\t 4.0\n",
      "CPU times: user 9.49 s, sys: 50 ms, total: 9.54 s\n",
      "Wall time: 9.02 s\n"
     ]
    }
   ],
   "source": [
    "%%time\n",
    "print('=====LSCC=====')\n",
    "\n",
    "lscc = analysis.calculate_largest_strongly_connected_comp(g)\n",
    "\n",
    "print('LSCC edges: \\t', lscc.num_edges())\n",
    "print('LSCC nodes: \\t', lscc.num_vertices())\n",
<<<<<<< HEAD
    "\n",
    "lscc_dists = analysis.calculate_distances(lscc)\n",
    "\n",
    "s_median, s_mean, s_diam, s_eff_diam = analysis.compute_stats(lscc_dists)\n",
    "\n",
    "print('median distance:\\t', s_median)\n",
    "print('mean distance:\\t\\t', s_mean)\n",
    "print('diameter:\\t\\t', s_diam)\n",
    "print('effective diameter:\\t', s_eff_diam)"
=======
    "print()\n",
    "print('LWCC edges: \\t', lwcc.num_edges())\n",
    "print('LWCC nodes: \\t', lwcc.num_vertices())"
>>>>>>> e94d5c6cea0ac548ff54bd1663eb9fb3c723ece2
   ]
  },
  {
   "cell_type": "code",
   "execution_count": 7,
   "metadata": {},
   "outputs": [
    {
     "name": "stdout",
     "output_type": "stream",
     "text": [
      "=====LWCC=====\n",
      "LWCC edges: \t 103663\n",
      "LWCC nodes: \t 7066\n",
      "start calculate distances\n",
      "calculate distances done\n",
      "select pairs of permutations/combinations done\n",
      "0.0 %\n",
      "5.0 %\n",
      "10.0 %\n",
      "15.0 %\n",
      "20.0 %\n",
      "25.0 %\n",
      "30.0 %\n",
      "35.0 %\n",
      "40.0 %\n",
      "45.0 %\n",
      "50.0 %\n",
      "55.0 %\n",
      "60.0 %\n",
      "65.0 %\n",
      "70.0 %\n",
      "75.0 %\n",
      "80.0 %\n",
      "85.0 %\n",
      "90.0 %\n",
      "95.0 %\n",
      "100.0 %\n",
      "median distance:\t 3.0\n",
      "mean distance:\t\t 3.24750999023\n",
      "diameter:\t\t 7\n",
      "effective diameter:\t 4.0\n",
      "CPU times: user 2min 4s, sys: 1.45 s, total: 2min 6s\n",
      "Wall time: 1min 57s\n"
     ]
    }
   ],
   "source": [
    "%%time\n",
    "print('=====LWCC=====')\n",
    "lwcc = analysis.calculate_largest_weakly_connected_comp(g)\n",
    "\n",
    "print('LWCC edges: \\t', lwcc.num_edges())\n",
    "print('LWCC nodes: \\t', lwcc.num_vertices())\n",
    "\n",
    "lwcc_dists = analysis.calculate_distances(lwcc)\n",
    "\n",
    "w_median, w_mean, w_diam, w_eff_diam = analysis.compute_stats(lwcc_dists)\n",
    "\n",
    "print('median distance:\\t', w_median)\n",
    "print('mean distance:\\t\\t', w_mean)\n",
    "print('diameter:\\t\\t', w_diam)\n",
    "print('effective diameter:\\t', w_eff_diam)"
   ]
  }
 ],
 "metadata": {
  "kernelspec": {
   "display_name": "Python 3",
   "language": "python",
   "name": "python3"
  },
  "language_info": {
   "codemirror_mode": {
    "name": "ipython",
    "version": 3
   },
   "file_extension": ".py",
   "mimetype": "text/x-python",
   "name": "python",
   "nbconvert_exporter": "python",
   "pygments_lexer": "ipython3",
   "version": "3.6.3"
  }
 },
 "nbformat": 4,
 "nbformat_minor": 2
}
