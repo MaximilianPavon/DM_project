{
 "cells": [
  {
   "cell_type": "code",
   "execution_count": 5,
   "metadata": {
    "collapsed": true
   },
   "outputs": [],
   "source": [
    "import analysis\n",
    "import time"
   ]
  },
  {
   "cell_type": "code",
   "execution_count": 2,
   "metadata": {
    "collapsed": true
   },
   "outputs": [],
   "source": [
    "filenames = ['./data/wiki-Vote/wiki-Vote.txt']"
   ]
  },
  {
   "cell_type": "code",
   "execution_count": 3,
   "metadata": {},
   "outputs": [
    {
     "name": "stdout",
     "output_type": "stream",
     "text": [
      "vertices: 8298 edges: 103689\n"
     ]
    }
   ],
   "source": [
    "g = analysis.load_graph(filenames[0], directed=True)\n",
    "print('vertices:', g.num_vertices(), 'edges:', g.num_edges())"
   ]
  },
  {
   "cell_type": "code",
   "execution_count": 4,
   "metadata": {},
   "outputs": [],
   "source": [
    "lwcc = analysis.calculate_largest_weakly_connected_comp(g)\n",
    "lscc = analysis.calculate_largest_strongly_connected_comp(g)"
   ]
  },
  {
   "cell_type": "code",
   "execution_count": 7,
   "metadata": {},
   "outputs": [
    {
     "name": "stdout",
     "output_type": "stream",
     "text": [
      "0.0 %\n",
      "CPU times: user 16.5 s, sys: 30 ms, total: 16.5 s\n",
      "Wall time: 15.9 s\n"
     ]
    }
   ],
   "source": [
    "%%time\n",
    "lscc_dists = analysis.calculate_distances(lscc)"
   ]
  },
  {
   "cell_type": "code",
   "execution_count": 6,
   "metadata": {},
   "outputs": [
    {
     "name": "stdout",
     "output_type": "stream",
     "text": [
      "0.0 %\n",
      "8.012613456102596 %\n",
      "16.02522691220519 %\n",
      "24.03784036830779 %\n",
      "32.05045382441038 %\n",
      "40.06306728051298 %\n",
      "48.07568073661558 %\n",
      "56.08829419271818 %\n",
      "64.10090764882077 %\n",
      "72.11352110492338 %\n",
      "80.12613456102596 %\n",
      "88.13874801712856 %\n",
      "96.15136147323116 %\n",
      "CPU times: user 3min 38s, sys: 1.1 s, total: 3min 39s\n",
      "Wall time: 3min 24s\n"
     ]
    }
   ],
   "source": [
    "%%time\n",
    "lwcc_dists = analysis.calculate_distances(lwcc)"
   ]
  },
  {
   "cell_type": "code",
   "execution_count": 9,
   "metadata": {},
   "outputs": [
    {
     "name": "stdout",
     "output_type": "stream",
     "text": [
      "=====LSCC=====\n",
      "median distance:\t 3.0\n",
      "mean distance:\t\t 2.87928288032\n",
      "diameter:\t\t 9\n",
      "effective diameter:\t 4.0\n",
      "\n",
      "=====LWCC=====\n",
      "median distance:\t 3.0\n",
      "mean distance:\t\t 3.24750999023\n",
      "diameter:\t\t 7\n",
      "effective diameter:\t 4.0\n"
     ]
    }
   ],
   "source": [
    "s_median, s_mean, s_diam, s_eff_diam = analysis.compute_stats(lscc_dists)\n",
    "w_median, w_mean, w_diam, w_eff_diam = analysis.compute_stats(lwcc_dists)\n",
    "\n",
    "print('=====LSCC=====')\n",
    "print('median distance:\\t', s_median)\n",
    "print('mean distance:\\t\\t', s_mean)\n",
    "print('diameter:\\t\\t', s_diam)\n",
    "print('effective diameter:\\t', s_eff_diam)\n",
    "print()\n",
    "print('=====LWCC=====')\n",
    "print('median distance:\\t', w_median)\n",
    "print('mean distance:\\t\\t', w_mean)\n",
    "print('diameter:\\t\\t', w_diam)\n",
    "print('effective diameter:\\t', w_eff_diam)"
   ]
  }
 ],
 "metadata": {
  "kernelspec": {
   "display_name": "Python 3",
   "language": "python",
   "name": "python3"
  },
  "language_info": {
   "codemirror_mode": {
    "name": "ipython",
    "version": 3
   },
   "file_extension": ".py",
   "mimetype": "text/x-python",
   "name": "python",
   "nbconvert_exporter": "python",
   "pygments_lexer": "ipython3",
   "version": "3.6.3"
  }
 },
 "nbformat": 4,
 "nbformat_minor": 2
}
