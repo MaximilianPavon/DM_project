{
 "cells": [
  {
   "cell_type": "code",
   "execution_count": 1,
   "metadata": {
    "collapsed": true
   },
   "outputs": [],
   "source": [
    "import analysis\n",
    "import time\n",
    "import graph_tool"
   ]
  },
  {
   "cell_type": "code",
   "execution_count": 2,
   "metadata": {
    "collapsed": true
   },
   "outputs": [],
   "source": [
    "filenames = ['wiki-Vote.txt']"
   ]
  },
  {
   "cell_type": "code",
   "execution_count": 3,
   "metadata": {},
   "outputs": [
    {
     "name": "stdout",
     "output_type": "stream",
     "text": [
      "vertices: 8298 edges: 103689\n",
      "CPU times: user 110 ms, sys: 10 ms, total: 120 ms\n",
      "Wall time: 141 ms\n"
     ]
    }
   ],
   "source": [
    "%%time\n",
    "g = analysis.load_graph(filenames[0], directed=True)\n",
    "print('vertices:', g.num_vertices(), 'edges:', g.num_edges())"
   ]
  },
  {
   "cell_type": "code",
   "execution_count": 4,
   "metadata": {
    "collapsed": true
   },
   "outputs": [],
   "source": [
    "accuracy = 0.1 #as a fraction of the to be sampled pairs of vertices"
   ]
  },
  {
   "cell_type": "code",
   "execution_count": 5,
   "metadata": {},
   "outputs": [
    {
     "name": "stdout",
     "output_type": "stream",
     "text": [
      "=====LSCC=====\n",
      "LSCC edges: \t 39456\n",
      "LSCC nodes: \t 1300\n",
      "accuracy is  10.0 % corresponds to  130 sampled pairs of vertices of LSCC\n",
      "CPU times: user 0 ns, sys: 10 ms, total: 10 ms\n",
      "Wall time: 45.2 ms\n"
     ]
    }
   ],
   "source": [
    "%%time\n",
    "print('=====LSCC=====')\n",
    "lscc = analysis.calculate_largest_strongly_connected_comp(g)\n",
    "print('LSCC edges: \\t', lscc.num_edges())\n",
    "print('LSCC nodes: \\t', lscc.num_vertices())\n",
    "print('accuracy is ', accuracy * 100, '% corresponds to ', int(accuracy * lscc.num_vertices()), 'sampled pairs of vertices of LSCC')"
   ]
  },
  {
   "cell_type": "code",
   "execution_count": 6,
   "metadata": {},
   "outputs": [
    {
     "name": "stdout",
     "output_type": "stream",
     "text": [
      "calculate distances done\n",
      "select pairs of permutations/combinations done\n",
      "0.0 %\n",
      "4.6 %\n",
      "9.2 %\n",
      "13.8 %\n",
      "18.5 %\n",
      "23.1 %\n",
      "27.7 %\n",
      "32.3 %\n",
      "36.9 %\n",
      "41.5 %\n",
      "46.2 %\n",
      "50.8 %\n",
      "55.4 %\n",
      "60.0 %\n",
      "64.6 %\n",
      "69.2 %\n",
      "73.8 %\n",
      "78.5 %\n",
      "83.1 %\n",
      "87.7 %\n",
      "92.3 %\n",
      "96.9 %\n",
      "median distance:\t 3.0\n",
      "mean distance:\t\t 2.84615384615\n",
      "diameter:\t\t 5\n",
      "effective diameter:\t 4.0\n",
      "CPU times: user 850 ms, sys: 0 ns, total: 850 ms\n",
      "Wall time: 335 ms\n"
     ]
    }
   ],
   "source": [
    "%%time\n",
    "lscc_dists = analysis.calculate_distances(lscc, accuracy)\n",
    "s_median, s_mean, s_diam, s_eff_diam = analysis.compute_stats(lscc_dists)\n",
    "print('median distance:\\t', s_median)\n",
    "print('mean distance:\\t\\t', s_mean)\n",
    "print('diameter:\\t\\t', s_diam)\n",
    "print('effective diameter:\\t', s_eff_diam)\n",
    "del lscc, lscc_dists"
   ]
  },
  {
   "cell_type": "code",
   "execution_count": 7,
   "metadata": {},
   "outputs": [
    {
     "name": "stdout",
     "output_type": "stream",
     "text": [
      "=====LWCC=====\n",
      "LWCC edges: \t 103663\n",
      "LWCC nodes: \t 7066\n",
      "accuracy is  10.0 % corresponds to  706 sampled pairs of vertices of LWCC\n",
      "CPU times: user 0 ns, sys: 0 ns, total: 0 ns\n",
      "Wall time: 7.31 ms\n"
     ]
    }
   ],
   "source": [
    "%%time\n",
    "print('=====LWCC=====')\n",
    "lwcc = analysis.calculate_largest_weakly_connected_comp(g)\n",
    "print('LWCC edges: \\t', lwcc.num_edges())\n",
    "print('LWCC nodes: \\t', lwcc.num_vertices())\n",
    "print('accuracy is ', accuracy * 100, '% corresponds to ', int(accuracy * lwcc.num_vertices()), 'sampled pairs of vertices of LWCC')"
   ]
  },
  {
   "cell_type": "code",
   "execution_count": 8,
   "metadata": {},
   "outputs": [
    {
     "name": "stdout",
     "output_type": "stream",
     "text": [
      "calculate distances done\n",
      "select pairs of permutations/combinations done\n",
      "0.0 %\n",
      "5.0 %\n",
      "9.9 %\n",
      "14.9 %\n",
      "19.8 %\n",
      "24.8 %\n",
      "29.7 %\n",
      "34.7 %\n",
      "39.7 %\n",
      "44.6 %\n",
      "49.6 %\n",
      "54.5 %\n",
      "59.5 %\n",
      "64.4 %\n",
      "69.4 %\n",
      "74.4 %\n",
      "79.3 %\n",
      "84.3 %\n",
      "89.2 %\n",
      "94.2 %\n",
      "99.2 %\n",
      "accuracy is  10.0 % corresponds to  706 sampled pairs of vertices\n",
      "median distance:\t 3.0\n",
      "mean distance:\t\t 3.26062322946\n",
      "diameter:\t\t 6\n",
      "effective diameter:\t 4.0\n",
      "CPU times: user 12.6 s, sys: 200 ms, total: 12.8 s\n",
      "Wall time: 3.37 s\n"
     ]
    }
   ],
   "source": [
    "%%time\n",
    "lwcc_dists = analysis.calculate_distances(lwcc, accuracy)\n",
    "w_median, w_mean, w_diam, w_eff_diam = analysis.compute_stats(lwcc_dists)\n",
    "print('accuracy is ', accuracy * 100, '% corresponds to ', int(accuracy * lwcc.num_vertices()), 'sampled pairs of vertices') if accuracy > 0 else print()\n",
    "print('median distance:\\t', w_median)\n",
    "print('mean distance:\\t\\t', w_mean)\n",
    "print('diameter:\\t\\t', w_diam)\n",
    "print('effective diameter:\\t', w_eff_diam)"
   ]
  }
 ],
 "metadata": {
  "kernelspec": {
   "display_name": "Python 3",
   "language": "python",
   "name": "python3"
  },
  "language_info": {
   "codemirror_mode": {
    "name": "ipython",
    "version": 3
   },
   "file_extension": ".py",
   "mimetype": "text/x-python",
   "name": "python",
   "nbconvert_exporter": "python",
   "pygments_lexer": "ipython3",
   "version": "3.6.3"
  }
 },
 "nbformat": 4,
 "nbformat_minor": 2
}
