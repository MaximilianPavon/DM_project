{
 "cells": [
  {
   "cell_type": "code",
   "execution_count": 1,
   "metadata": {
    "collapsed": true
   },
   "outputs": [],
   "source": [
    "import analysis\n",
    "import time\n",
    "import graph_tool"
   ]
  },
  {
   "cell_type": "code",
   "execution_count": 2,
   "metadata": {
    "collapsed": true
   },
   "outputs": [],
   "source": [
    "filenames = ['wiki-Vote.txt']"
   ]
  },
  {
   "cell_type": "code",
   "execution_count": 3,
   "metadata": {},
   "outputs": [
    {
     "name": "stdout",
     "output_type": "stream",
     "text": [
      "vertices: 8298 edges: 103689\n",
      "CPU times: user 220 ms, sys: 0 ns, total: 220 ms\n",
      "Wall time: 319 ms\n"
     ]
    }
   ],
   "source": [
    "%%time\n",
    "g = analysis.load_graph(filenames[0], directed=True)\n",
    "print('vertices:', g.num_vertices(), 'edges:', g.num_edges())"
   ]
  },
  {
   "cell_type": "code",
   "execution_count": 4,
   "metadata": {
    "collapsed": true
   },
   "outputs": [],
   "source": [
    "accuracy = 0.1 #as a fraction of the to be sampled pairs of vertices"
   ]
  },
  {
   "cell_type": "code",
   "execution_count": 5,
   "metadata": {},
   "outputs": [
    {
     "name": "stdout",
     "output_type": "stream",
     "text": [
      "=====LSCC=====\n",
      "LSCC edges: \t 39456\n",
      "LSCC nodes: \t 1300\n",
      "0.0 %\n",
      "accuracy is  10.0 % corresponds to  130 sampled pairs of vertices\n",
      "median distance:\t 3.0\n",
      "mean distance:\t\t 2.89230769231\n",
      "diameter:\t\t 5\n",
      "effective diameter:\t 4.0\n",
      "CPU times: user 880 ms, sys: 70 ms, total: 950 ms\n",
      "Wall time: 792 ms\n"
     ]
    }
   ],
   "source": [
    "%%time\n",
    "print('=====LSCC=====')\n",
    "lscc = analysis.calculate_largest_strongly_connected_comp(g)\n",
    "print('LSCC edges: \\t', lscc.num_edges())\n",
    "print('LSCC nodes: \\t', lscc.num_vertices())\n",
    "lscc_dists = analysis.calculate_distances(lscc, accuracy)\n",
    "s_median, s_mean, s_diam, s_eff_diam = analysis.compute_stats(lscc_dists)\n",
    "print('accuracy is ', accuracy * 100, '% corresponds to ', int(accuracy * lscc.num_vertices()), 'sampled pairs of vertices') if accuracy > 0 else print()\n",
    "print('median distance:\\t', s_median)\n",
    "print('mean distance:\\t\\t', s_mean)\n",
    "print('diameter:\\t\\t', s_diam)\n",
    "print('effective diameter:\\t', s_eff_diam)"
   ]
  },
  {
   "cell_type": "code",
   "execution_count": 6,
   "metadata": {},
   "outputs": [
    {
     "name": "stdout",
     "output_type": "stream",
     "text": [
      "=====LWCC=====\n",
      "LWCC edges: \t 103663\n",
      "LWCC nodes: \t 7066\n",
      "0.0 %\n",
      "accuracy is  10.0 % corresponds to  706 sampled pairs of vertices\n",
      "median distance:\t 3.0\n",
      "mean distance:\t\t 3.23796033994\n",
      "diameter:\t\t 5\n",
      "effective diameter:\t 4.0\n",
      "CPU times: user 13.9 s, sys: 260 ms, total: 14.1 s\n",
      "Wall time: 7.86 s\n"
     ]
    }
   ],
   "source": [
    "%%time\n",
    "print('=====LWCC=====')\n",
    "lwcc = analysis.calculate_largest_weakly_connected_comp(g)\n",
    "print('LWCC edges: \\t', lwcc.num_edges())\n",
    "print('LWCC nodes: \\t', lwcc.num_vertices())\n",
    "lwcc_dists = analysis.calculate_distances(lwcc, accuracy)\n",
    "w_median, w_mean, w_diam, w_eff_diam = analysis.compute_stats(lwcc_dists)\n",
    "print('accuracy is ', accuracy * 100, '% corresponds to ', int(accuracy * lwcc.num_vertices()), 'sampled pairs of vertices') if accuracy > 0 else print()\n",
    "print('median distance:\\t', w_median)\n",
    "print('mean distance:\\t\\t', w_mean)\n",
    "print('diameter:\\t\\t', w_diam)\n",
    "print('effective diameter:\\t', w_eff_diam)"
   ]
  }
 ],
 "metadata": {
  "kernelspec": {
   "display_name": "Python 3",
   "language": "python",
   "name": "python3"
  },
  "language_info": {
   "codemirror_mode": {
    "name": "ipython",
    "version": 3
   },
   "file_extension": ".py",
   "mimetype": "text/x-python",
   "name": "python",
   "nbconvert_exporter": "python",
   "pygments_lexer": "ipython3",
   "version": "3.6.3"
  }
 },
 "nbformat": 4,
 "nbformat_minor": 2
}
