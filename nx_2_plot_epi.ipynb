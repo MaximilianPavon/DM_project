{
 "cells": [
  {
   "cell_type": "code",
   "execution_count": 1,
   "metadata": {
    "collapsed": true
   },
   "outputs": [],
   "source": [
    "import analysis_nx\n",
    "import nx_approx_methods\n",
    "import networkx as nx\n",
    "%matplotlib inline\n",
    "import matplotlib.pyplot as plt"
   ]
  },
  {
   "cell_type": "code",
   "execution_count": 2,
   "metadata": {},
   "outputs": [],
   "source": [
    "g = analysis_nx.load_graph('data/soc-Epinions1/soc-Epinions1.txt')"
   ]
  },
  {
   "cell_type": "code",
   "execution_count": 3,
   "metadata": {},
   "outputs": [],
   "source": [
    "lscc_view = analysis_nx.calculate_largest_strongly_connected_comp(g)"
   ]
  },
  {
   "cell_type": "code",
   "execution_count": 4,
   "metadata": {},
   "outputs": [],
   "source": [
    "lscc = lscc_view.copy(as_view=False)"
   ]
  },
  {
   "cell_type": "code",
   "execution_count": 6,
   "metadata": {},
   "outputs": [],
   "source": [
    "nx.write_gpickle(lscc, 'graphs/epi-lscc.gpickle')"
   ]
  },
  {
   "cell_type": "code",
   "execution_count": 7,
   "metadata": {},
   "outputs": [],
   "source": [
    "lwcc_view = analysis_nx.calculate_largest_weakly_connected_comp(g)"
   ]
  },
  {
   "cell_type": "code",
   "execution_count": 8,
   "metadata": {},
   "outputs": [],
   "source": [
    "lwcc = lwcc_view.copy(as_view=False)"
   ]
  },
  {
   "cell_type": "code",
   "execution_count": 9,
   "metadata": {},
   "outputs": [],
   "source": [
    "nx.write_gpickle(lwcc, 'graphs/epi-lwcc.gpickle')"
   ]
  },
  {
   "cell_type": "code",
   "execution_count": 10,
   "metadata": {
    "collapsed": true
   },
   "outputs": [],
   "source": [
    "acc_ar = [0.02, 0.03, 0.04, 0.05, 0.06]#, 0.07, 0.08, 0.09, 0.1, 0.15, 0.2, 0.25, 0.3]\n",
    "#acc_ar = [0.35, 0.4, 0.45, 0.5, 0.6]\n",
    "s_median_ar, s_mean_ar, s_diam_ar, s_eff_diam_ar = [], [], [], []\n",
    "w_median_ar, w_mean_ar, w_diam_ar, w_eff_diam_ar = [], [], [], []"
   ]
  },
  {
   "cell_type": "code",
   "execution_count": null,
   "metadata": {
    "scrolled": true
   },
   "outputs": [
    {
     "name": "stdout",
     "output_type": "stream",
     "text": [
      "=====LSCC=====\n",
      "accuracy is  2.0 % corresponds to  644 sampled number of nodes of LSCC\n",
      "taking 644 samples\n",
      "4 cores used\n",
      "=====LWCC=====\n",
      "accuracy is  2.0 % corresponds to  1517 sampled number of nodes of LWCC\n",
      "taking 1517 samples\n",
      "4 cores used\n"
     ]
    }
   ],
   "source": [
    "%%time\n",
    "for accuracy in acc_ar:\n",
    "\n",
    "    print('=====LSCC=====')\n",
    "    #print('LSCC edges: \\t', lscc.num_edges())\n",
    "    #print('LSCC nodes: \\t', lscc.num_vertices())\n",
    "    print('accuracy is ', accuracy * 100, '% corresponds to ', int(accuracy * lscc.number_of_nodes()), 'sampled number of nodes of LSCC')\n",
    "\n",
    "    n_samples = int(accuracy * lscc.number_of_nodes())\n",
    "    bfs_graph_lscc_view = nx_approx_methods.method_2(lscc, n_samples)\n",
    "    bfs_graph_lscc = bfs_graph_lscc_view.copy(as_view=False)\n",
    "    lscc_dists = analysis_nx.compute_shortest_path_distances_parallel_mp(bfs_graph_lscc)\n",
    "    s_median, s_mean, s_diam, s_eff_diam = analysis_nx.compute_stats(lscc_dists)\n",
    "    s_median_ar.append(s_median)\n",
    "    s_mean_ar.append(s_mean)\n",
    "    s_diam_ar.append(s_diam)\n",
    "    s_eff_diam_ar.append(s_eff_diam)\n",
    "\n",
    "    print('=====LWCC=====')\n",
    "    #print('LWCC edges: \\t', lwcc.num_edges())\n",
    "    #print('LWCC nodes: \\t', lwcc.num_vertices())\n",
    "    print('accuracy is ', accuracy * 100, '% corresponds to ', int(accuracy * lwcc.number_of_nodes()), 'sampled number of nodes of LWCC')\n",
    "\n",
    "    n_samples = int(accuracy * lwcc.number_of_nodes())\n",
    "    bfs_graph_lwcc_view = nx_approx_methods.method_2(lwcc, n_samples)\n",
    "    bfs_graph_lwcc = bfs_graph_lwcc_view.copy(as_view=False)\n",
    "    lwcc_dists = analysis_nx.compute_shortest_path_distances_parallel_mp(bfs_graph_lwcc)\n",
    "    s_median, s_mean, s_diam, s_eff_diam = analysis_nx.compute_stats(lwcc_dists)\n",
    "    w_median_ar.append(s_median)\n",
    "    w_mean_ar.append(s_mean)\n",
    "    w_diam_ar.append(s_diam)\n",
    "    w_eff_diam_ar.append(s_eff_diam)"
   ]
  },
  {
   "cell_type": "code",
   "execution_count": null,
   "metadata": {},
   "outputs": [],
   "source": [
    "print(s_median_ar, s_mean_ar, s_diam_ar, s_eff_diam_ar)\n",
    "print(w_median_ar, w_mean_ar, w_diam_ar, w_eff_diam_ar)"
   ]
  },
  {
   "cell_type": "code",
   "execution_count": 20,
   "metadata": {
    "collapsed": true
   },
   "outputs": [],
   "source": [
    "# enter exact values for soc-Epinions1:\n",
    "s_ex_median, s_ex_mean, s_ex_dia, s_ex_eff_dia = 4, 4.405, 16, 6\n",
    "w_ex_median, w_ex_mean, w_ex_dia, w_ex_eff_dia = 4, 4.308, 15, 5"
   ]
  },
  {
   "cell_type": "code",
   "execution_count": null,
   "metadata": {},
   "outputs": [],
   "source": [
    "plt.figure(figsize=(12,6))\n",
    "plt.plot(acc_ar, s_median_ar, label='Median distance', color='navy')\n",
    "plt.axhline(s_ex_median, linestyle='dashed', color='navy')\n",
    "\n",
    "plt.plot(acc_ar, s_mean_ar, label='Mean distance', color='r')\n",
    "plt.axhline(s_ex_mean, linestyle='dashed', color='r')\n",
    "\n",
    "plt.plot(acc_ar, s_diam_ar, label='Diameter', color='orange')\n",
    "plt.axhline(s_ex_dia, linestyle='dashed', color='orange')\n",
    "\n",
    "plt.plot(acc_ar, s_eff_diam_ar, label='Effective Diameter', color='g')\n",
    "plt.axhline(s_ex_eff_dia, linestyle='dashed', color='g')\n",
    "\n",
    "plt.legend()\n",
    "title = 'approximation method: sample random sources + BFS \\n approximate network statistics as a function of the accuracy parameter for  the LSCC \\n for the network: soc-Epinions1'\n",
    "plt.title(title)\n",
    "plt.xlabel('accuracy')\n",
    "plt.ylabel('distance')\n",
    "plt.savefig('2_2_' + 'method2_'  + 'soc-Epinions1' + '_lscc', dpi=300, bordes='tight')"
   ]
  },
  {
   "cell_type": "code",
   "execution_count": null,
   "metadata": {},
   "outputs": [],
   "source": [
    "plt.figure(figsize=(12,6))\n",
    "plt.plot(acc_ar, w_median_ar, label='Median distance', color='navy')\n",
    "plt.axhline(w_ex_median, linestyle='dashed', color='navy')\n",
    "\n",
    "plt.plot(acc_ar, w_mean_ar, label='Mean distance', color='r')\n",
    "plt.axhline(w_ex_mean, linestyle='dashed', color='r')\n",
    "\n",
    "plt.plot(acc_ar, w_diam_ar, label='Diameter', color='orange')\n",
    "plt.axhline(w_ex_dia, linestyle='dashed', color='orange')\n",
    "\n",
    "plt.plot(acc_ar, w_eff_diam_ar, label='Effective Diameter', color='g')\n",
    "plt.axhline(w_ex_eff_dia, linestyle='dashed', color='g')\n",
    "plt.legend()\n",
    "title = 'approximation method: sample random sources + BFS \\n approximate network statistics as a function of the accuracy parameter for  the LWCC \\n for the network: soc-Epinions1'\n",
    "plt.title(title)\n",
    "plt.xlabel('accuracy')\n",
    "plt.ylabel('distance')\n",
    "plt.savefig('2_2_' + 'method2_'  + 'soc-Epinions1' + '_lscc', dpi=300, bordes='tight')"
   ]
  }
 ],
 "metadata": {
  "kernelspec": {
   "display_name": "Python 3",
   "language": "python",
   "name": "python3"
  },
  "language_info": {
   "codemirror_mode": {
    "name": "ipython",
    "version": 3
   },
   "file_extension": ".py",
   "mimetype": "text/x-python",
   "name": "python",
   "nbconvert_exporter": "python",
   "pygments_lexer": "ipython3",
   "version": "3.6.3"
  }
 },
 "nbformat": 4,
 "nbformat_minor": 2
}
