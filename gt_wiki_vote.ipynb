{
 "cells": [
  {
   "cell_type": "code",
   "execution_count": 15,
   "metadata": {
    "collapsed": true
   },
   "outputs": [],
   "source": [
    "from graph_tool.all import *\n",
    "from graph_tool import topology\n",
    "from graph_tool import draw\n",
    "\n",
    "%matplotlib inline\n",
    "\n",
    "import numpy as np\n",
    "import matplotlib as mpl\n",
    "import matplotlib.pyplot as plt\n",
    "import time\n",
    "import csv\n",
    "import itertools"
   ]
  },
  {
   "cell_type": "code",
   "execution_count": 2,
   "metadata": {
    "collapsed": true
   },
   "outputs": [],
   "source": [
    "path_to_file = './data/wiki-Vote/wiki-Vote.txt'"
   ]
  },
  {
   "cell_type": "markdown",
   "metadata": {},
   "source": [
    "# this way of loading the graph does not work as it mapped the original vertex index label to its own"
   ]
  },
  {
   "cell_type": "markdown",
   "metadata": {
    "collapsed": true
   },
   "source": [
    "```python\n",
    "%%time\n",
    "G_dir = load_graph_from_csv(path_to_file, directed=True,csv_options={'delimiter': '\\t'})\n",
    "G_undir = G_dir\n",
    "G_undir.set_directed(False)\n",
    "\n",
    "#G_undir = load_graph_from_csv(path_to_file, directed=False,csv_options={'delimiter': '\\t'})\n",
    "```"
   ]
  },
  {
   "cell_type": "markdown",
   "metadata": {},
   "source": [
    "# manually load the graph"
   ]
  },
  {
   "cell_type": "code",
   "execution_count": 54,
   "metadata": {
    "collapsed": true
   },
   "outputs": [],
   "source": [
    "g = Graph(directed=True)"
   ]
  },
  {
   "cell_type": "code",
   "execution_count": 55,
   "metadata": {
    "collapsed": true
   },
   "outputs": [],
   "source": [
    "with open(path_to_file) as f:\n",
    "    reader_network = csv.reader(f, delimiter='\\t', skipinitialspace=True)\n",
    "    g.add_edge_list(map(int, edge) for edge in reader_network)"
   ]
  },
  {
   "cell_type": "code",
   "execution_count": 56,
   "metadata": {
    "scrolled": true
   },
   "outputs": [
    {
     "name": "stdout",
     "output_type": "stream",
     "text": [
      "vertices: 8298 edges: 103689\n"
     ]
    }
   ],
   "source": [
    "print('vertices:', g.num_vertices(), 'edges:', g.num_edges())"
   ]
  },
  {
   "cell_type": "markdown",
   "metadata": {},
   "source": [
    "**Tenemos un problema que tambien pasaba en la primera version que subiste, los vertices son 7115 y no 8298. Lo mirare despues.**"
   ]
  },
  {
   "cell_type": "code",
   "execution_count": 43,
   "metadata": {
    "collapsed": true
   },
   "outputs": [],
   "source": [
    "#graph_draw(g, vertex_text=g.vertex_index, vertex_font_size=18, output_size=(200, 200))"
   ]
  },
  {
   "cell_type": "markdown",
   "metadata": {},
   "source": [
    "## Calulate connected components"
   ]
  },
  {
   "cell_type": "code",
   "execution_count": 58,
   "metadata": {},
   "outputs": [
    {
     "name": "stdout",
     "output_type": "stream",
     "text": [
      "CPU times: user 10 ms, sys: 0 ns, total: 10 ms\n",
      "Wall time: 4.94 ms\n"
     ]
    }
   ],
   "source": [
    "%%time\n",
    "l = topology.label_largest_component(g, directed=True)\n",
    "lscc = GraphView(g, vfilt=l)"
   ]
  },
  {
   "cell_type": "code",
   "execution_count": 63,
   "metadata": {},
   "outputs": [
    {
     "name": "stdout",
     "output_type": "stream",
     "text": [
      "CPU times: user 10 ms, sys: 0 ns, total: 10 ms\n",
      "Wall time: 4.68 ms\n"
     ]
    }
   ],
   "source": [
    "%%time\n",
    "w = topology.label_largest_component(g, directed=False)\n",
    "lwcc = GraphView(g, vfilt=w) "
   ]
  },
  {
   "cell_type": "code",
   "execution_count": 65,
   "metadata": {},
   "outputs": [
    {
     "name": "stdout",
     "output_type": "stream",
     "text": [
      "LSCC edges: \t 39456\n",
      "LSCC nodes: \t 1300\n",
      "\n",
      "LWCC edges: \t 103663\n",
      "LWCC nodes: \t 7066\n"
     ]
    }
   ],
   "source": [
    "print('LSCC edges: \\t', lscc.num_edges())\n",
    "print('LSCC nodes: \\t', lscc.num_vertices())\n",
    "print()\n",
    "print('LWCC edges: \\t', lwcc.num_edges())\n",
    "print('LWCC nodes: \\t', lwcc.num_vertices())"
   ]
  },
  {
   "cell_type": "markdown",
   "metadata": {},
   "source": [
    "## Calulate distances for LSCC"
   ]
  },
  {
   "cell_type": "code",
   "execution_count": 78,
   "metadata": {},
   "outputs": [
    {
     "name": "stdout",
     "output_type": "stream",
     "text": [
      "CPU times: user 970 ms, sys: 150 ms, total: 1.12 s\n",
      "Wall time: 445 ms\n"
     ]
    }
   ],
   "source": [
    "%%time\n",
    "lscc_distances = topology.shortest_distance(lscc, directed=True)"
   ]
  },
  {
   "cell_type": "code",
   "execution_count": 100,
   "metadata": {
    "scrolled": false
   },
   "outputs": [
    {
     "name": "stdout",
     "output_type": "stream",
     "text": [
      "0.0 %\n",
      "5.9171597633136095 %\n",
      "11.834319526627219 %\n",
      "17.75147928994083 %\n",
      "23.668639053254438 %\n",
      "29.585798816568047 %\n",
      "35.50295857988166 %\n",
      "41.42011834319527 %\n",
      "47.337278106508876 %\n",
      "53.25443786982249 %\n",
      "59.171597633136095 %\n",
      "65.08875739644971 %\n",
      "71.00591715976331 %\n",
      "76.92307692307693 %\n",
      "82.84023668639054 %\n",
      "88.75739644970415 %\n",
      "94.67455621301775 %\n",
      "CPU times: user 21.2 s, sys: 0 ns, total: 21.2 s\n",
      "Wall time: 21.1 s\n"
     ]
    }
   ],
   "source": [
    "%%time\n",
    "dist_dir = []\n",
    "counter = 0 \n",
    "for (v1, v2) in itertools.permutations(lscc.vertices(), 2):\n",
    "    dist_dir.append(lscc_distances[v1][v2])\n",
    "    \n",
    "    if (counter%100000 == 0):\n",
    "        print(counter / (lscc.num_vertices() ** 2) * 100, '%')\n",
    "    counter = counter + 1"
   ]
  },
  {
   "cell_type": "code",
   "execution_count": 101,
   "metadata": {},
   "outputs": [
    {
     "name": "stdout",
     "output_type": "stream",
     "text": [
      "median distance:\t 3.0\n",
      "mean distance:\t 2.87928288032\n",
      "diameter:\t 9\n",
      "effective diameter:\t 4.0\n"
     ]
    }
   ],
   "source": [
    "print('median distance:\\t', np.percentile(dist_dir, 50))\n",
    "print('mean distance:\\t', np.mean(dist_dir))\n",
    "print('diameter:\\t', np.max(dist_dir))\n",
    "print('effective diameter:\\t', np.percentile(dist_dir, 90))"
   ]
  },
  {
   "cell_type": "markdown",
   "metadata": {},
   "source": [
    "## Calculate distances for LWCC"
   ]
  },
  {
   "cell_type": "code",
   "execution_count": 103,
   "metadata": {},
   "outputs": [
    {
     "name": "stdout",
     "output_type": "stream",
     "text": [
      "CPU times: user 32.8 s, sys: 2.03 s, total: 34.8 s\n",
      "Wall time: 9.35 s\n"
     ]
    }
   ],
   "source": [
    "%%time\n",
    "lwcc_distances_undir = topology.shortest_distance(lwcc, directed=False)"
   ]
  },
  {
   "cell_type": "markdown",
   "metadata": {},
   "source": [
    "**Aqui creo que son combinations y no permutations, porque los vertices son undirected.**"
   ]
  },
  {
   "cell_type": "code",
   "execution_count": 106,
   "metadata": {
    "scrolled": false
   },
   "outputs": [
    {
     "name": "stdout",
     "output_type": "stream",
     "text": [
      "0.0 %\n",
      "2.002869872182453 %\n",
      "4.005739744364906 %\n",
      "6.008609616547359 %\n",
      "8.011479488729812 %\n",
      "10.014349360912265 %\n",
      "12.017219233094718 %\n",
      "14.02008910527717 %\n",
      "16.022958977459623 %\n",
      "18.025828849642075 %\n",
      "20.02869872182453 %\n",
      "22.03156859400698 %\n",
      "24.034438466189435 %\n",
      "26.037308338371883 %\n",
      "28.04017821055434 %\n",
      "30.04304808273679 %\n",
      "32.04591795491925 %\n",
      "34.0487878271017 %\n",
      "36.05165769928415 %\n",
      "38.0545275714666 %\n",
      "40.05739744364906 %\n",
      "42.06026731583151 %\n",
      "44.06313718801396 %\n",
      "46.06600706019641 %\n",
      "48.06887693237887 %\n",
      "50.07174680456132 %\n",
      "52.074616676743766 %\n",
      "54.077486548926224 %\n",
      "56.08035642110868 %\n",
      "58.08322629329113 %\n",
      "60.08609616547358 %\n",
      "62.088966037656036 %\n",
      "64.0918359098385 %\n",
      "66.09470578202095 %\n",
      "68.0975756542034 %\n",
      "70.10044552638584 %\n",
      "72.1033153985683 %\n",
      "74.10618527075076 %\n",
      "76.1090551429332 %\n",
      "78.11192501511566 %\n",
      "80.11479488729812 %\n",
      "82.11766475948056 %\n",
      "84.12053463166302 %\n",
      "86.12340450384546 %\n",
      "88.12627437602792 %\n",
      "90.12914424821038 %\n",
      "92.13201412039282 %\n",
      "94.13488399257528 %\n",
      "96.13775386475774 %\n",
      "98.14062373694019 %\n",
      "CPU times: user 11min 9s, sys: 0 ns, total: 11min 9s\n",
      "Wall time: 11min 9s\n"
     ]
    }
   ],
   "source": [
    "%%time\n",
    "dist_undir = []\n",
    "counter = 0 \n",
    "for (v1, v2) in itertools.permutations(lwcc.vertices(), 2):\n",
    "    dist_undir.append(lwcc_distances_undir[v1][v2])\n",
    "    \n",
    "    if (counter%1000000 == 0):\n",
    "        print(counter / (lwcc.num_vertices() ** 2) * 100, '%')\n",
    "    counter = counter + 1"
   ]
  },
  {
   "cell_type": "code",
   "execution_count": 107,
   "metadata": {},
   "outputs": [
    {
     "name": "stdout",
     "output_type": "stream",
     "text": [
      "median distance:\t 3.0\n",
      "mean distance:\t 3.24750999023\n",
      "diameter:\t 7\n",
      "effective diameter:\t 4.0\n"
     ]
    }
   ],
   "source": [
    "print('median distance:\\t', np.percentile(dist_undir, 50))\n",
    "print('mean distance:\\t', np.mean(dist_undir))\n",
    "print('diameter:\\t', np.max(dist_undir))\n",
    "print('effective diameter:\\t', np.percentile(dist_undir, 90))"
   ]
  },
  {
   "cell_type": "code",
   "execution_count": null,
   "metadata": {
    "collapsed": true
   },
   "outputs": [],
   "source": []
  }
 ],
 "metadata": {
  "kernelspec": {
   "display_name": "Python 3",
   "language": "python",
   "name": "python3"
  },
  "language_info": {
   "codemirror_mode": {
    "name": "ipython",
    "version": 3
   },
   "file_extension": ".py",
   "mimetype": "text/x-python",
   "name": "python",
   "nbconvert_exporter": "python",
   "pygments_lexer": "ipython3",
   "version": "3.6.3"
  }
 },
 "nbformat": 4,
 "nbformat_minor": 2
}
