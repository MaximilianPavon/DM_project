{
 "cells": [
  {
   "cell_type": "code",
   "execution_count": 1,
   "metadata": {
    "collapsed": true
   },
   "outputs": [],
   "source": [
    "from graph_tool.all import *\n",
    "from graph_tool import topology\n",
    "from graph_tool import draw\n",
    "\n",
    "%matplotlib inline\n",
    "\n",
    "import numpy as np\n",
    "import matplotlib as mpl\n",
    "import matplotlib.pyplot as plt\n",
    "import time"
   ]
  },
  {
   "cell_type": "code",
   "execution_count": 2,
   "metadata": {
    "collapsed": true
   },
   "outputs": [],
   "source": [
    "path_to_file = 'wiki-Vote.txt'"
   ]
  },
  {
   "cell_type": "markdown",
   "metadata": {},
   "source": [
    "# this way of loading the graph does not work as it mapped the original vertex index label to its own"
   ]
  },
  {
   "cell_type": "code",
   "execution_count": null,
   "metadata": {
    "collapsed": true
   },
   "outputs": [],
   "source": [
    "%%time\n",
    "G_dir = load_graph_from_csv(path_to_file, directed=True,csv_options={'delimiter': '\\t'})\n",
    "G_undir = G_dir\n",
    "G_undir.set_directed(False)\n",
    "\n",
    "#G_undir = load_graph_from_csv(path_to_file, directed=False,csv_options={'delimiter': '\\t'})"
   ]
  },
  {
   "cell_type": "markdown",
   "metadata": {},
   "source": [
    "# manually load the graph"
   ]
  },
  {
   "cell_type": "code",
   "execution_count": 3,
   "metadata": {
    "collapsed": true
   },
   "outputs": [],
   "source": [
    "import csv\n",
    "\n",
    "g = Graph()\n",
    "\n",
    "#e_weight = g.new_edge_property('float')\n",
    "\n",
    "f_network = open(path_to_file, 'r')\n",
    "\n",
    "reader_network = csv.reader(f_network, delimiter='\\t', skipinitialspace=True)\n",
    "\n",
    "for edge in reader_network:\n",
    "    e = g.add_edge(int(edge[0]), int(edge[1]))\n",
    "    #e_weight[e] = float(1)\n",
    "\n",
    "\n",
    "f_network.close()\n",
    "\n",
    "g.set_directed(True)"
   ]
  },
  {
   "cell_type": "code",
   "execution_count": 4,
   "metadata": {},
   "outputs": [
    {
     "name": "stdout",
     "output_type": "stream",
     "text": [
      "CPU times: user 10 ms, sys: 0 ns, total: 10 ms\n",
      "Wall time: 43.9 ms\n"
     ]
    }
   ],
   "source": [
    "%%time\n",
    "l = topology.label_largest_component(g, directed=True)\n",
    "LSCC = GraphView(g, vfilt=l)"
   ]
  },
  {
   "cell_type": "code",
   "execution_count": 5,
   "metadata": {},
   "outputs": [
    {
     "name": "stdout",
     "output_type": "stream",
     "text": [
      "CPU times: user 0 ns, sys: 10 ms, total: 10 ms\n",
      "Wall time: 3.72 ms\n"
     ]
    }
   ],
   "source": [
    "%%time\n",
    "w = topology.label_largest_component(g, directed=False)\n",
    "LWCC = GraphView(g, vfilt=w) "
   ]
  },
  {
   "cell_type": "code",
   "execution_count": 6,
   "metadata": {},
   "outputs": [
    {
     "name": "stdout",
     "output_type": "stream",
     "text": [
      "LSCC edges: \t 39456\n",
      "LSCC nodes: \t 1300\n",
      "LWCC edges: \t 103663\n",
      "LWCC nodes: \t 7066\n"
     ]
    }
   ],
   "source": [
    "print('LSCC edges: \\t', LSCC.num_edges())\n",
    "print('LSCC nodes: \\t', LSCC.num_vertices())\n",
    "\n",
    "print('LWCC edges: \\t',LWCC.num_edges())\n",
    "print('LWCC nodes: \\t',LWCC.num_vertices())"
   ]
  },
  {
   "cell_type": "markdown",
   "metadata": {},
   "source": [
    "## calulate distances for LSCC"
   ]
  },
  {
   "cell_type": "code",
   "execution_count": 9,
   "metadata": {},
   "outputs": [
    {
     "name": "stdout",
     "output_type": "stream",
     "text": [
      "CPU times: user 750 ms, sys: 80 ms, total: 830 ms\n",
      "Wall time: 342 ms\n"
     ]
    }
   ],
   "source": [
    "%%time\n",
    "distances = topology.shortest_distance(LSCC, directed=True)"
   ]
  },
  {
   "cell_type": "code",
   "execution_count": 12,
   "metadata": {
    "scrolled": false
   },
   "outputs": [
    {
     "name": "stdout",
     "output_type": "stream",
     "text": [
      "0\n",
      "10000\n",
      "20000\n",
      "30000\n",
      "40000\n",
      "50000\n",
      "60000\n",
      "70000\n",
      "80000\n",
      "90000\n",
      "100000\n",
      "110000\n",
      "120000\n",
      "130000\n",
      "140000\n",
      "150000\n",
      "160000\n",
      "170000\n",
      "180000\n",
      "190000\n",
      "200000\n",
      "210000\n",
      "220000\n",
      "230000\n",
      "240000\n",
      "250000\n",
      "260000\n",
      "270000\n",
      "280000\n",
      "290000\n",
      "300000\n",
      "310000\n",
      "320000\n",
      "330000\n",
      "340000\n",
      "350000\n",
      "360000\n",
      "370000\n",
      "380000\n",
      "390000\n",
      "400000\n",
      "410000\n",
      "420000\n",
      "430000\n",
      "440000\n",
      "450000\n",
      "460000\n",
      "470000\n",
      "480000\n",
      "490000\n",
      "500000\n",
      "510000\n",
      "520000\n",
      "530000\n",
      "540000\n",
      "550000\n",
      "560000\n",
      "570000\n",
      "580000\n",
      "590000\n",
      "600000\n",
      "610000\n",
      "620000\n",
      "630000\n",
      "640000\n",
      "650000\n",
      "660000\n",
      "670000\n",
      "680000\n",
      "690000\n",
      "700000\n",
      "710000\n",
      "720000\n",
      "730000\n",
      "740000\n",
      "750000\n",
      "760000\n",
      "770000\n",
      "780000\n",
      "790000\n",
      "800000\n",
      "810000\n",
      "820000\n",
      "830000\n",
      "840000\n",
      "850000\n",
      "860000\n",
      "870000\n",
      "880000\n",
      "890000\n",
      "900000\n",
      "910000\n",
      "920000\n",
      "930000\n",
      "940000\n",
      "950000\n",
      "960000\n",
      "970000\n",
      "980000\n",
      "990000\n",
      "1000000\n",
      "1010000\n",
      "1020000\n",
      "1030000\n",
      "1040000\n",
      "1050000\n",
      "1060000\n",
      "1070000\n",
      "1080000\n",
      "1090000\n",
      "1100000\n",
      "1110000\n",
      "1120000\n",
      "1130000\n",
      "1140000\n",
      "1150000\n",
      "1160000\n",
      "1170000\n",
      "1180000\n",
      "1190000\n",
      "1200000\n",
      "1210000\n",
      "1220000\n",
      "1230000\n",
      "1240000\n",
      "1250000\n",
      "1260000\n",
      "1270000\n",
      "1280000\n",
      "1290000\n",
      "1300000\n",
      "1310000\n",
      "1320000\n",
      "1330000\n",
      "1340000\n",
      "1350000\n",
      "1360000\n",
      "1370000\n",
      "1380000\n",
      "1390000\n",
      "1400000\n",
      "1410000\n",
      "1420000\n",
      "1430000\n",
      "1440000\n",
      "1450000\n",
      "1460000\n",
      "1470000\n",
      "1480000\n",
      "1490000\n",
      "1500000\n",
      "1510000\n",
      "1520000\n",
      "1530000\n",
      "1540000\n",
      "1550000\n",
      "1560000\n",
      "1570000\n",
      "1580000\n",
      "1590000\n",
      "1600000\n",
      "1610000\n",
      "1620000\n",
      "1630000\n",
      "1640000\n",
      "1650000\n",
      "1660000\n",
      "1670000\n",
      "1680000\n",
      "CPU times: user 2min 4s, sys: 110 ms, total: 2min 4s\n",
      "Wall time: 2min 4s\n"
     ]
    }
   ],
   "source": [
    "%%time\n",
    "dist_dir = []\n",
    "LSCC_vertices = LSCC.get_vertices()\n",
    "counter = 0 \n",
    "for v1 in LSCC_vertices:\n",
    "    for v2 in LSCC_vertices:\n",
    "        if v1 != v2:\n",
    "            dist_dir.append(distances[v1][v2])\n",
    "        if (counter%10000 == 0):\n",
    "            print(counter)\n",
    "        counter = counter + 1\n"
   ]
  },
  {
   "cell_type": "code",
   "execution_count": 13,
   "metadata": {},
   "outputs": [
    {
     "name": "stdout",
     "output_type": "stream",
     "text": [
      "median distance:\t 3.0\n",
      "mean distance:\t 2.87928288032\n",
      "diameter:\t 9\n",
      "effective diameter:\t 4.0\n"
     ]
    }
   ],
   "source": [
    "print('median distance:\\t',np.percentile(dist_dir,50))\n",
    "print('mean distance:\\t',np.mean(dist_dir))\n",
    "print('diameter:\\t',np.max(dist_dir))\n",
    "print('effective diameter:\\t',np.percentile(dist_dir,90))"
   ]
  },
  {
   "cell_type": "markdown",
   "metadata": {},
   "source": [
    "## calculate distances for LWCC"
   ]
  },
  {
   "cell_type": "code",
   "execution_count": 23,
   "metadata": {},
   "outputs": [
    {
     "name": "stdout",
     "output_type": "stream",
     "text": [
      "CPU times: user 11.2 s, sys: 380 ms, total: 11.6 s\n",
      "Wall time: 3.14 s\n"
     ]
    }
   ],
   "source": [
    "%%time\n",
    "distances_undir = topology.shortest_distance(LWCC, directed=False)"
   ]
  },
  {
   "cell_type": "code",
   "execution_count": null,
   "metadata": {
    "scrolled": false
   },
   "outputs": [
    {
     "name": "stdout",
     "output_type": "stream",
     "text": [
      "0.0 mio\n",
      "0.1 mio\n",
      "0.2 mio\n",
      "0.3 mio\n",
      "0.4 mio\n",
      "0.5 mio\n",
      "0.6 mio\n",
      "0.7 mio\n",
      "0.8 mio\n",
      "0.9 mio\n",
      "1.0 mio\n",
      "1.1 mio\n",
      "1.2 mio\n",
      "1.3 mio\n",
      "1.4 mio\n",
      "1.5 mio\n",
      "1.6 mio\n",
      "1.7 mio\n",
      "1.8 mio\n",
      "1.9 mio\n",
      "2.0 mio\n",
      "2.1 mio\n",
      "2.2 mio\n",
      "2.3 mio\n",
      "2.4 mio\n",
      "2.5 mio\n",
      "2.6 mio\n",
      "2.7 mio\n",
      "2.8 mio\n",
      "2.9 mio\n",
      "3.0 mio\n",
      "3.1 mio\n",
      "3.2 mio\n",
      "3.3 mio\n",
      "3.4 mio\n",
      "3.5 mio\n",
      "3.6 mio\n",
      "3.7 mio\n",
      "3.8 mio\n",
      "3.9 mio\n",
      "4.0 mio\n",
      "4.1 mio\n",
      "4.2 mio\n",
      "4.3 mio\n",
      "4.4 mio\n",
      "4.5 mio\n",
      "4.6 mio\n",
      "4.7 mio\n",
      "4.8 mio\n",
      "4.9 mio\n",
      "5.0 mio\n",
      "5.1 mio\n",
      "5.2 mio\n",
      "5.3 mio\n",
      "5.4 mio\n",
      "5.5 mio\n",
      "5.6 mio\n",
      "5.7 mio\n",
      "5.8 mio\n",
      "5.9 mio\n",
      "6.0 mio\n",
      "6.1 mio\n",
      "6.2 mio\n",
      "6.3 mio\n",
      "6.4 mio\n",
      "6.5 mio\n",
      "6.6 mio\n",
      "6.7 mio\n",
      "6.8 mio\n",
      "6.9 mio\n",
      "7.0 mio\n",
      "7.1 mio\n",
      "7.2 mio\n",
      "7.3 mio\n",
      "7.4 mio\n",
      "7.5 mio\n",
      "7.6 mio\n",
      "7.7 mio\n",
      "7.8 mio\n",
      "7.9 mio\n",
      "8.0 mio\n",
      "8.1 mio\n",
      "8.2 mio\n",
      "8.3 mio\n",
      "8.4 mio\n",
      "8.5 mio\n",
      "8.6 mio\n",
      "8.7 mio\n",
      "8.8 mio\n",
      "8.9 mio\n",
      "9.0 mio\n",
      "9.1 mio\n",
      "9.2 mio\n",
      "9.3 mio\n",
      "9.4 mio\n",
      "9.5 mio\n",
      "9.6 mio\n",
      "9.7 mio\n",
      "9.8 mio\n",
      "9.9 mio\n",
      "10.0 mio\n",
      "10.1 mio\n",
      "10.2 mio\n",
      "10.3 mio\n",
      "10.4 mio\n",
      "10.5 mio\n",
      "10.6 mio\n",
      "10.7 mio\n",
      "10.8 mio\n",
      "10.9 mio\n",
      "11.0 mio\n",
      "11.1 mio\n",
      "11.2 mio\n",
      "11.3 mio\n",
      "11.4 mio\n",
      "11.5 mio\n",
      "11.6 mio\n",
      "11.7 mio\n",
      "11.8 mio\n",
      "11.9 mio\n",
      "12.0 mio\n",
      "12.1 mio\n",
      "12.2 mio\n",
      "12.3 mio\n",
      "12.4 mio\n",
      "12.5 mio\n",
      "12.6 mio\n",
      "12.7 mio\n",
      "12.8 mio\n",
      "12.9 mio\n",
      "13.0 mio\n",
      "13.1 mio\n",
      "13.2 mio\n",
      "13.3 mio\n",
      "13.4 mio\n",
      "13.5 mio\n",
      "13.6 mio\n",
      "13.7 mio\n",
      "13.8 mio\n",
      "13.9 mio\n",
      "14.0 mio\n",
      "14.1 mio\n",
      "14.2 mio\n",
      "14.3 mio\n",
      "14.4 mio\n",
      "14.5 mio\n",
      "14.6 mio\n",
      "14.7 mio\n",
      "14.8 mio\n",
      "14.9 mio\n",
      "15.0 mio\n",
      "15.1 mio\n",
      "15.2 mio\n",
      "15.3 mio\n",
      "15.4 mio\n",
      "15.5 mio\n",
      "15.6 mio\n",
      "15.7 mio\n",
      "15.8 mio\n",
      "15.9 mio\n",
      "16.0 mio\n",
      "16.1 mio\n",
      "16.2 mio\n",
      "16.3 mio\n",
      "16.4 mio\n",
      "16.5 mio\n",
      "16.6 mio\n",
      "16.7 mio\n",
      "16.8 mio\n",
      "16.9 mio\n",
      "17.0 mio\n",
      "17.1 mio\n",
      "17.2 mio\n",
      "17.3 mio\n",
      "17.4 mio\n",
      "17.5 mio\n",
      "17.6 mio\n",
      "17.7 mio\n",
      "17.8 mio\n",
      "17.9 mio\n",
      "18.0 mio\n",
      "18.1 mio\n",
      "18.2 mio\n",
      "18.3 mio\n",
      "18.4 mio\n",
      "18.5 mio\n",
      "18.6 mio\n",
      "18.7 mio\n",
      "18.8 mio\n",
      "18.9 mio\n",
      "19.0 mio\n",
      "19.1 mio\n",
      "19.2 mio\n",
      "19.3 mio\n",
      "19.4 mio\n",
      "19.5 mio\n",
      "19.6 mio\n",
      "19.7 mio\n",
      "19.8 mio\n",
      "19.9 mio\n",
      "20.0 mio\n",
      "20.1 mio\n",
      "20.2 mio\n",
      "20.3 mio\n",
      "20.4 mio\n",
      "20.5 mio\n",
      "20.6 mio\n",
      "20.7 mio\n",
      "20.8 mio\n"
     ]
    }
   ],
   "source": [
    "%%time\n",
    "dist_undir = []\n",
    "LWCC_vertices = LWCC.get_vertices()\n",
    "counter = 0\n",
    "for v1 in LWCC_vertices:\n",
    "    for v2 in LWCC_vertices:\n",
    "        if v1 != v2:\n",
    "            dist_undir.append(distances_undir[v1][v2])\n",
    "        if (counter%100000 == 0):\n",
    "            print(np.round(counter/10**6,1), 'mio')\n",
    "        counter = counter + 1"
   ]
  },
  {
   "cell_type": "code",
   "execution_count": null,
   "metadata": {},
   "outputs": [],
   "source": [
    "print('median distance:\\t',np.percentile(dist_undir,50))\n",
    "print('mean distance:\\t',np.mean(dist_undir))\n",
    "print('diameter:\\t',np.max(dist_undir))\n",
    "print('effective diameter:\\t',np.percentile(dist_undir,90))"
   ]
  },
  {
   "cell_type": "code",
   "execution_count": null,
   "metadata": {
    "collapsed": true
   },
   "outputs": [],
   "source": [
    "1+1"
   ]
  },
  {
   "cell_type": "code",
   "execution_count": null,
   "metadata": {
    "collapsed": true
   },
   "outputs": [],
   "source": []
  }
 ],
 "metadata": {
  "kernelspec": {
   "display_name": "Python 3",
   "language": "python",
   "name": "python3"
  },
  "language_info": {
   "codemirror_mode": {
    "name": "ipython",
    "version": 3
   },
   "file_extension": ".py",
   "mimetype": "text/x-python",
   "name": "python",
   "nbconvert_exporter": "python",
   "pygments_lexer": "ipython3",
   "version": "3.6.3"
  }
 },
 "nbformat": 4,
 "nbformat_minor": 2
}
