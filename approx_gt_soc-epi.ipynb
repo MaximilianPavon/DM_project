{
 "cells": [
  {
   "cell_type": "code",
   "execution_count": 1,
   "metadata": {
    "collapsed": true
   },
   "outputs": [],
   "source": [
    "import analysis\n",
    "import time\n",
    "import graph_tool"
   ]
  },
  {
   "cell_type": "code",
   "execution_count": 2,
   "metadata": {
    "collapsed": true
   },
   "outputs": [],
   "source": [
    "filenames = ['soc-Epinions1.txt']"
   ]
  },
  {
   "cell_type": "code",
   "execution_count": 3,
   "metadata": {},
   "outputs": [
    {
     "name": "stdout",
     "output_type": "stream",
     "text": [
      "vertices: 75888 edges: 508837\n",
      "CPU times: user 610 ms, sys: 20 ms, total: 630 ms\n",
      "Wall time: 623 ms\n"
     ]
    }
   ],
   "source": [
    "%%time\n",
    "g = analysis.load_graph(filenames[0], directed=True)\n",
    "print('vertices:', g.num_vertices(), 'edges:', g.num_edges())"
   ]
  },
  {
   "cell_type": "code",
   "execution_count": 4,
   "metadata": {
    "collapsed": true
   },
   "outputs": [],
   "source": [
    "accuracy = 0.01 #as a fraction of the to be sampled pairs of vertices"
   ]
  },
  {
   "cell_type": "code",
   "execution_count": 5,
   "metadata": {},
   "outputs": [
    {
     "name": "stdout",
     "output_type": "stream",
     "text": [
      "=====LSCC=====\n",
      "LSCC edges: \t 443506\n",
      "LSCC nodes: \t 32223\n",
      "accuracy is  1.0 % corresponds to  322 sampled pairs of vertices of LSCC\n",
      "CPU times: user 30 ms, sys: 0 ns, total: 30 ms\n",
      "Wall time: 33.8 ms\n"
     ]
    }
   ],
   "source": [
    "%%time\n",
    "print('=====LSCC=====')\n",
    "lscc = analysis.calculate_largest_strongly_connected_comp(g)\n",
    "print('LSCC edges: \\t', lscc.num_edges())\n",
    "print('LSCC nodes: \\t', lscc.num_vertices())\n",
    "print('accuracy is ', accuracy * 100, '% corresponds to ', int(accuracy * lscc.num_vertices()), 'sampled pairs of vertices of LSCC')"
   ]
  },
  {
   "cell_type": "code",
   "execution_count": 6,
   "metadata": {},
   "outputs": [
    {
     "name": "stdout",
     "output_type": "stream",
     "text": [
      "calculate distances done\n",
      "select pairs of permutations/combinations done\n",
      "0.0 %\n",
      "4.968944099378882 %\n",
      "9.937888198757763 %\n",
      "14.906832298136646 %\n",
      "19.875776397515526 %\n",
      "24.84472049689441 %\n",
      "29.81366459627329 %\n",
      "34.78260869565217 %\n",
      "39.75155279503105 %\n",
      "44.72049689440994 %\n",
      "49.68944099378882 %\n",
      "54.6583850931677 %\n",
      "59.62732919254658 %\n",
      "64.59627329192547 %\n",
      "69.56521739130434 %\n",
      "74.53416149068323 %\n",
      "79.5031055900621 %\n",
      "84.472049689441 %\n",
      "89.44099378881988 %\n",
      "94.40993788819875 %\n",
      "99.37888198757764 %\n",
      "median distance:\t 4.0\n",
      "mean distance:\t\t 4.33229813665\n",
      "diameter:\t\t 7\n",
      "effective diameter:\t 5.0\n",
      "CPU times: user 3min 52s, sys: 3.47 s, total: 3min 55s\n",
      "Wall time: 1min 32s\n"
     ]
    }
   ],
   "source": [
    "%%time\n",
    "lscc_dists = analysis.calculate_distances(lscc, accuracy)\n",
    "s_median, s_mean, s_diam, s_eff_diam = analysis.compute_stats(lscc_dists)\n",
    "print('median distance:\\t', s_median)\n",
    "print('mean distance:\\t\\t', s_mean)\n",
    "print('diameter:\\t\\t', s_diam)\n",
    "print('effective diameter:\\t', s_eff_diam)\n",
    "del lscc, lscc_dists"
   ]
  },
  {
   "cell_type": "code",
   "execution_count": 11,
   "metadata": {},
   "outputs": [
    {
     "name": "stdout",
     "output_type": "stream",
     "text": [
      "=====LWCC=====\n",
      "LWCC edges: \t 508836\n",
      "LWCC nodes: \t 75877\n",
      "accuracy is  1.0 % corresponds to  758 sampled pairs of vertices of LWCC\n",
      "CPU times: user 40 ms, sys: 0 ns, total: 40 ms\n",
      "Wall time: 39.1 ms\n"
     ]
    }
   ],
   "source": [
    "%%time\n",
    "print('=====LWCC=====')\n",
    "lwcc = analysis.calculate_largest_weakly_connected_comp(g)\n",
    "print('LWCC edges: \\t', lwcc.num_edges())\n",
    "print('LWCC nodes: \\t', lwcc.num_vertices())\n",
    "print('accuracy is ', accuracy * 100, '% corresponds to ', int(accuracy * lwcc.num_vertices()), 'sampled pairs of vertices of LWCC')"
   ]
  },
  {
   "cell_type": "code",
   "execution_count": null,
   "metadata": {},
   "outputs": [],
   "source": [
    "%%time\n",
    "lwcc_dists = analysis.calculate_distances(lwcc, accuracy)\n",
    "w_median, w_mean, w_diam, w_eff_diam = analysis.compute_stats(lwcc_dists)\n",
    "print('median distance:\\t', w_median)\n",
    "print('mean distance:\\t\\t', w_mean)\n",
    "print('diameter:\\t\\t', w_diam)\n",
    "print('effective diameter:\\t', w_eff_diam)"
   ]
  }
 ],
 "metadata": {
  "kernelspec": {
   "display_name": "Python 3",
   "language": "python",
   "name": "python3"
  },
  "language_info": {
   "codemirror_mode": {
    "name": "ipython",
    "version": 3
   },
   "file_extension": ".py",
   "mimetype": "text/x-python",
   "name": "python",
   "nbconvert_exporter": "python",
   "pygments_lexer": "ipython3",
   "version": "3.6.3"
  }
 },
 "nbformat": 4,
 "nbformat_minor": 2
}
