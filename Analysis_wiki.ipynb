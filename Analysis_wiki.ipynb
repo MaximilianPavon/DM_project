{
 "cells": [
  {
   "cell_type": "code",
   "execution_count": 1,
   "metadata": {},
   "outputs": [],
   "source": [
    "%matplotlib inline\n",
    "\n",
    "import numpy as np\n",
    "import matplotlib as mpl\n",
    "import matplotlib.pyplot as plt\n",
    "import networkx as nx\n",
    "\n",
    "import time"
   ]
  },
  {
   "cell_type": "code",
   "execution_count": 2,
   "metadata": {},
   "outputs": [
    {
     "name": "stdout",
     "output_type": "stream",
     "text": [
      "CPU times: user 723 ms, sys: 33.9 ms, total: 757 ms\n",
      "Wall time: 758 ms\n"
     ]
    }
   ],
   "source": [
    "%%time\n",
    "\n",
    "path_to_file = './data/wiki-Vote/wiki-Vote.txt'\n",
    "G_dir = nx.read_edgelist(path_to_file, comments='#', delimiter='\\t', nodetype=int, create_using=nx.DiGraph())\n",
    "G_undir = nx.read_edgelist(path_to_file, comments='#', delimiter='\\t', nodetype=int)"
   ]
  },
  {
   "cell_type": "code",
   "execution_count": 17,
   "metadata": {},
   "outputs": [
    {
     "name": "stdout",
     "output_type": "stream",
     "text": [
      "CPU times: user 19.8 s, sys: 119 ms, total: 19.9 s\n",
      "Wall time: 20 s\n"
     ]
    }
   ],
   "source": [
    "%%time\n",
    "LSCC_dir = max(nx.strongly_connected_component_subgraphs(G_dir), key=len)\n",
    "LWCC_dir = max(nx.weakly_connected_component_subgraphs(G_dir), key=len)\n",
    "\n",
    "#LSCC_undir = nx.strongly_connected_components(G_undir)"
   ]
  },
  {
   "cell_type": "code",
   "execution_count": 18,
   "metadata": {},
   "outputs": [
    {
     "name": "stdout",
     "output_type": "stream",
     "text": [
      "39456\n",
      "1300\n",
      "103663\n",
      "7066\n",
      "CPU times: user 5.78 ms, sys: 883 µs, total: 6.67 ms\n",
      "Wall time: 6.4 ms\n"
     ]
    }
   ],
   "source": [
    "%%time\n",
    "print(LSCC_dir.number_of_edges())\n",
    "print(LSCC_dir.number_of_nodes())\n",
    "\n",
    "print(LWCC_dir.number_of_edges())\n",
    "print(LWCC_dir.number_of_nodes())"
   ]
  },
  {
   "cell_type": "code",
   "execution_count": null,
   "metadata": {},
   "outputs": [],
   "source": [
    "%%time\n",
    "dist_dir = []\n",
    "for i in G_dir.nodes:\n",
    "    for j in G_dir.nodes:\n",
    "        if nx.has_path(G_dir,i,j):\n",
    "            dist_dir.append(nx.shortest_path_length(G_dir,i,j))"
   ]
  },
  {
   "cell_type": "code",
   "execution_count": 13,
   "metadata": {},
   "outputs": [
    {
     "data": {
      "text/plain": [
       "AtlasView({15: {}, 214: {}, 230: {}, 285: {}, 290: {}, 298: {}, 332: {}, 350: {}, 403: {}, 407: {}, 415: {}, 506: {}, 559: {}, 575: {}, 587: {}, 633: {}, 665: {}, 737: {}, 761: {}, 762: {}, 763: {}, 765: {}, 836: {}, 859: {}, 887: {}, 904: {}, 908: {}, 913: {}, 937: {}, 947: {}, 959: {}, 968: {}, 975: {}, 993: {}, 1000: {}, 1031: {}, 1034: {}, 1035: {}, 1049: {}, 1061: {}, 1097: {}, 1103: {}, 1111: {}, 1124: {}, 1137: {}, 1140: {}, 1151: {}, 1165: {}, 1168: {}, 1186: {}, 1199: {}, 1201: {}, 1211: {}, 1230: {}, 1243: {}, 1248: {}, 1250: {}, 1253: {}, 1261: {}, 1267: {}, 1279: {}, 1284: {}, 1291: {}, 1297: {}, 1307: {}, 1319: {}, 1322: {}, 1353: {}, 1357: {}, 1374: {}, 1378: {}, 1384: {}, 1390: {}, 1393: {}, 1407: {}, 1416: {}, 1419: {}, 1428: {}, 1442: {}, 1444: {}, 1453: {}, 1471: {}, 1482: {}, 1489: {}, 1492: {}, 1514: {}, 1520: {}, 1521: {}, 1525: {}, 1534: {}, 1542: {}, 1549: {}, 1565: {}, 1566: {}, 1583: {}, 1585: {}, 1592: {}, 1604: {}, 1610: {}, 1612: {}, 1613: {}, 1619: {}, 1621: {}, 1622: {}, 1628: {}, 1629: {}, 1633: {}, 1641: {}, 1648: {}, 1649: {}, 1654: {}, 1662: {}, 1669: {}, 1672: {}, 1678: {}, 1687: {}, 1689: {}, 1692: {}, 1700: {}, 1701: {}, 1707: {}, 1714: {}, 1717: {}, 1718: {}, 1723: {}, 1730: {}, 1732: {}, 1734: {}, 1746: {}, 1747: {}, 1749: {}, 1752: {}, 1754: {}, 1757: {}, 1758: {}, 1772: {}, 1781: {}, 1787: {}, 1788: {}, 1791: {}, 1792: {}, 1798: {}, 1802: {}, 1808: {}, 1811: {}, 1814: {}, 1816: {}, 1835: {}, 1842: {}, 1847: {}, 1848: {}, 1855: {}, 1857: {}, 1858: {}, 1888: {}, 1893: {}, 1901: {}, 1903: {}, 1908: {}, 1918: {}, 1919: {}, 1927: {}, 1956: {}, 1963: {}, 1964: {}, 1965: {}, 1969: {}, 1973: {}, 1977: {}, 1979: {}, 1983: {}, 1985: {}, 1987: {}, 1991: {}, 1992: {}, 1997: {}, 2004: {}, 2060: {}, 2066: {}, 2071: {}, 2072: {}, 2073: {}, 2076: {}, 2079: {}, 2083: {}, 2091: {}, 2097: {}, 2101: {}, 2109: {}, 2116: {}, 2117: {}, 2119: {}, 2120: {}, 2121: {}, 2128: {}, 2135: {}, 2137: {}, 2145: {}, 2157: {}, 2160: {}, 2163: {}, 2165: {}, 2168: {}, 2174: {}, 2178: {}, 2181: {}, 2193: {}, 2195: {}, 2205: {}, 2210: {}, 2225: {}, 2231: {}, 2240: {}, 2242: {}, 2246: {}, 2251: {}, 2253: {}, 2256: {}, 2264: {}, 2273: {}, 2285: {}, 2290: {}, 2297: {}, 2322: {}, 2323: {}, 2325: {}, 2328: {}, 2329: {}, 2333: {}, 2339: {}, 2341: {}, 2345: {}, 2348: {}, 2350: {}, 2354: {}, 2356: {}, 2371: {}, 2385: {}, 2397: {}, 2398: {}, 2400: {}, 2411: {}, 2435: {}, 2475: {}, 2504: {}, 2508: {}, 2517: {}, 2550: {}, 2560: {}, 2565: {}, 2576: {}, 2579: {}, 2580: {}, 2585: {}, 2587: {}, 2593: {}, 2594: {}, 2604: {}, 2617: {}, 2625: {}, 2643: {}, 2653: {}, 2654: {}, 2662: {}, 2669: {}, 2685: {}, 2697: {}, 2707: {}, 2721: {}, 2747: {}, 2754: {}, 2763: {}, 2794: {}, 2805: {}, 2814: {}, 2815: {}, 2828: {}, 2830: {}, 2834: {}, 2856: {}, 2871: {}, 2951: {}, 2972: {}, 2981: {}, 2996: {}, 2999: {}, 3021: {}, 3029: {}, 3030: {}, 3034: {}, 3089: {}, 3099: {}, 3117: {}, 3136: {}, 3150: {}, 3180: {}, 3192: {}, 3251: {}, 3253: {}, 3260: {}, 3265: {}, 3307: {}, 3338: {}, 3351: {}, 3352: {}, 3371: {}, 3394: {}, 3435: {}, 3459: {}, 3520: {}, 3547: {}, 3562: {}, 3646: {}, 3796: {}, 3804: {}, 3812: {}, 3813: {}, 3843: {}, 3871: {}, 3887: {}, 3926: {}, 3946: {}, 4011: {}, 4021: {}, 4037: {}, 4065: {}, 4162: {}, 4234: {}, 4247: {}, 4256: {}, 4290: {}, 4338: {}, 4361: {}, 4365: {}, 4384: {}, 4530: {}, 4531: {}, 4604: {}, 4712: {}, 4795: {}, 5083: {}, 5100: {}, 5288: {}, 5335: {}, 5545: {}, 5714: {}, 5822: {}, 5897: {}, 6246: {}, 6770: {}, 6774: {}, 7882: {}, 8291: {}, 8293: {}, 8294: {}})"
      ]
     },
     "execution_count": 13,
     "metadata": {},
     "output_type": "execute_result"
    }
   ],
   "source": [
    "G_dir[1608]"
   ]
  },
  {
   "cell_type": "code",
   "execution_count": 15,
   "metadata": {},
   "outputs": [
    {
     "data": {
      "text/plain": [
       "3"
      ]
     },
     "execution_count": 15,
     "metadata": {},
     "output_type": "execute_result"
    }
   ],
   "source": [
    "nx.shortest_path_length(G_dir, 3, 1622)"
   ]
  },
  {
   "cell_type": "code",
   "execution_count": 48,
   "metadata": {},
   "outputs": [
    {
     "ename": "AttributeError",
     "evalue": "'AtlasView' object has no attribute 'edges'",
     "output_type": "error",
     "traceback": [
      "\u001b[0;31m---------------------------------------------------------------------------\u001b[0m",
      "\u001b[0;31mAttributeError\u001b[0m                            Traceback (most recent call last)",
      "\u001b[0;32m<timed eval>\u001b[0m in \u001b[0;36m<module>\u001b[0;34m()\u001b[0m\n",
      "\u001b[0;32m/anaconda/lib/python3.6/site-packages/networkx/drawing/nx_pylab.py\u001b[0m in \u001b[0;36mdraw\u001b[0;34m(G, pos, ax, **kwds)\u001b[0m\n\u001b[1;32m    124\u001b[0m \u001b[0;34m\u001b[0m\u001b[0m\n\u001b[1;32m    125\u001b[0m     \u001b[0;32mtry\u001b[0m\u001b[0;34m:\u001b[0m\u001b[0;34m\u001b[0m\u001b[0m\n\u001b[0;32m--> 126\u001b[0;31m         \u001b[0mdraw_networkx\u001b[0m\u001b[0;34m(\u001b[0m\u001b[0mG\u001b[0m\u001b[0;34m,\u001b[0m \u001b[0mpos\u001b[0m\u001b[0;34m=\u001b[0m\u001b[0mpos\u001b[0m\u001b[0;34m,\u001b[0m \u001b[0max\u001b[0m\u001b[0;34m=\u001b[0m\u001b[0max\u001b[0m\u001b[0;34m,\u001b[0m \u001b[0;34m**\u001b[0m\u001b[0mkwds\u001b[0m\u001b[0;34m)\u001b[0m\u001b[0;34m\u001b[0m\u001b[0m\n\u001b[0m\u001b[1;32m    127\u001b[0m         \u001b[0max\u001b[0m\u001b[0;34m.\u001b[0m\u001b[0mset_axis_off\u001b[0m\u001b[0;34m(\u001b[0m\u001b[0;34m)\u001b[0m\u001b[0;34m\u001b[0m\u001b[0m\n\u001b[1;32m    128\u001b[0m         \u001b[0mplt\u001b[0m\u001b[0;34m.\u001b[0m\u001b[0mdraw_if_interactive\u001b[0m\u001b[0;34m(\u001b[0m\u001b[0;34m)\u001b[0m\u001b[0;34m\u001b[0m\u001b[0m\n",
      "\u001b[0;32m/anaconda/lib/python3.6/site-packages/networkx/drawing/nx_pylab.py\u001b[0m in \u001b[0;36mdraw_networkx\u001b[0;34m(G, pos, arrows, with_labels, **kwds)\u001b[0m\n\u001b[1;32m    267\u001b[0m \u001b[0;34m\u001b[0m\u001b[0m\n\u001b[1;32m    268\u001b[0m     \u001b[0mnode_collection\u001b[0m \u001b[0;34m=\u001b[0m \u001b[0mdraw_networkx_nodes\u001b[0m\u001b[0;34m(\u001b[0m\u001b[0mG\u001b[0m\u001b[0;34m,\u001b[0m \u001b[0mpos\u001b[0m\u001b[0;34m,\u001b[0m \u001b[0;34m**\u001b[0m\u001b[0mkwds\u001b[0m\u001b[0;34m)\u001b[0m\u001b[0;34m\u001b[0m\u001b[0m\n\u001b[0;32m--> 269\u001b[0;31m     \u001b[0medge_collection\u001b[0m \u001b[0;34m=\u001b[0m \u001b[0mdraw_networkx_edges\u001b[0m\u001b[0;34m(\u001b[0m\u001b[0mG\u001b[0m\u001b[0;34m,\u001b[0m \u001b[0mpos\u001b[0m\u001b[0;34m,\u001b[0m \u001b[0marrows\u001b[0m\u001b[0;34m=\u001b[0m\u001b[0marrows\u001b[0m\u001b[0;34m,\u001b[0m \u001b[0;34m**\u001b[0m\u001b[0mkwds\u001b[0m\u001b[0;34m)\u001b[0m\u001b[0;34m\u001b[0m\u001b[0m\n\u001b[0m\u001b[1;32m    270\u001b[0m     \u001b[0;32mif\u001b[0m \u001b[0mwith_labels\u001b[0m\u001b[0;34m:\u001b[0m\u001b[0;34m\u001b[0m\u001b[0m\n\u001b[1;32m    271\u001b[0m         \u001b[0mdraw_networkx_labels\u001b[0m\u001b[0;34m(\u001b[0m\u001b[0mG\u001b[0m\u001b[0;34m,\u001b[0m \u001b[0mpos\u001b[0m\u001b[0;34m,\u001b[0m \u001b[0;34m**\u001b[0m\u001b[0mkwds\u001b[0m\u001b[0;34m)\u001b[0m\u001b[0;34m\u001b[0m\u001b[0m\n",
      "\u001b[0;32m/anaconda/lib/python3.6/site-packages/networkx/drawing/nx_pylab.py\u001b[0m in \u001b[0;36mdraw_networkx_edges\u001b[0;34m(G, pos, edgelist, width, edge_color, style, alpha, edge_cmap, edge_vmin, edge_vmax, ax, arrows, label, **kwds)\u001b[0m\n\u001b[1;32m    508\u001b[0m \u001b[0;34m\u001b[0m\u001b[0m\n\u001b[1;32m    509\u001b[0m     \u001b[0;32mif\u001b[0m \u001b[0medgelist\u001b[0m \u001b[0;32mis\u001b[0m \u001b[0;32mNone\u001b[0m\u001b[0;34m:\u001b[0m\u001b[0;34m\u001b[0m\u001b[0m\n\u001b[0;32m--> 510\u001b[0;31m         \u001b[0medgelist\u001b[0m \u001b[0;34m=\u001b[0m \u001b[0mlist\u001b[0m\u001b[0;34m(\u001b[0m\u001b[0mG\u001b[0m\u001b[0;34m.\u001b[0m\u001b[0medges\u001b[0m\u001b[0;34m(\u001b[0m\u001b[0;34m)\u001b[0m\u001b[0;34m)\u001b[0m\u001b[0;34m\u001b[0m\u001b[0m\n\u001b[0m\u001b[1;32m    511\u001b[0m \u001b[0;34m\u001b[0m\u001b[0m\n\u001b[1;32m    512\u001b[0m     \u001b[0;32mif\u001b[0m \u001b[0;32mnot\u001b[0m \u001b[0medgelist\u001b[0m \u001b[0;32mor\u001b[0m \u001b[0mlen\u001b[0m\u001b[0;34m(\u001b[0m\u001b[0medgelist\u001b[0m\u001b[0;34m)\u001b[0m \u001b[0;34m==\u001b[0m \u001b[0;36m0\u001b[0m\u001b[0;34m:\u001b[0m  \u001b[0;31m# no edges!\u001b[0m\u001b[0;34m\u001b[0m\u001b[0m\n",
      "\u001b[0;31mAttributeError\u001b[0m: 'AtlasView' object has no attribute 'edges'"
     ]
    },
    {
     "data": {
      "image/png": "[encoded data removed]",
      "text/plain": [
       "<matplotlib.figure.Figure at 0x15137bd198>"
      ]
     },
     "metadata": {},
     "output_type": "display_data"
    }
   ],
   "source": [
    "%%time\n",
    "nx.draw(G_dir)\n"
   ]
  }
 ],
 "metadata": {
  "kernelspec": {
   "display_name": "Python 3",
   "language": "python",
   "name": "python3"
  },
  "language_info": {
   "codemirror_mode": {
    "name": "ipython",
    "version": 3
   },
   "file_extension": ".py",
   "mimetype": "text/x-python",
   "name": "python",
   "nbconvert_exporter": "python",
   "pygments_lexer": "ipython3",
   "version": "3.6.3"
  }
 },
 "nbformat": 4,
 "nbformat_minor": 2
}
