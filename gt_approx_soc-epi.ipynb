{
 "cells": [
  {
   "cell_type": "code",
   "execution_count": 1,
   "metadata": {
    "collapsed": true
   },
   "outputs": [],
   "source": [
    "import analysis\n",
    "import time"
   ]
  },
  {
   "cell_type": "code",
   "execution_count": 2,
   "metadata": {
    "collapsed": true
   },
   "outputs": [],
   "source": [
    "filenames = ['soc-Epinions1.txt']"
   ]
  },
  {
   "cell_type": "code",
   "execution_count": 3,
   "metadata": {},
   "outputs": [
    {
     "name": "stdout",
     "output_type": "stream",
     "text": [
      "vertices: 75888 edges: 508837\n",
      "CPU times: user 880 ms, sys: 20 ms, total: 900 ms\n",
      "Wall time: 892 ms\n"
     ]
    }
   ],
   "source": [
    "%%time\n",
    "g = analysis.load_graph(filenames[0], directed=True)\n",
    "print('vertices:', g.num_vertices(), 'edges:', g.num_edges())"
   ]
  },
  {
   "cell_type": "code",
   "execution_count": 4,
   "metadata": {
    "collapsed": true
   },
   "outputs": [],
   "source": [
    "accuracy = 0.05 #as a fraction of the to be sampled pairs of vertices"
   ]
  },
  {
   "cell_type": "code",
   "execution_count": 5,
   "metadata": {},
   "outputs": [
    {
     "name": "stdout",
     "output_type": "stream",
     "text": [
      "=====LSCC=====\n",
      "LSCC edges: \t 443506\n",
      "LSCC nodes: \t 32223\n",
      "accuracy is  5.0 % corresponds to  1611 sampled pairs of vertices of LSCC\n",
      "CPU times: user 50 ms, sys: 0 ns, total: 50 ms\n",
      "Wall time: 39.4 ms\n"
     ]
    }
   ],
   "source": [
    "%%time\n",
    "print('=====LSCC=====')\n",
    "lscc = analysis.calculate_largest_strongly_connected_comp(g)\n",
    "print('LSCC edges: \\t', lscc.num_edges())\n",
    "print('LSCC nodes: \\t', lscc.num_vertices())\n",
    "print('accuracy is ', accuracy * 100, '% corresponds to ', int(accuracy * lscc.num_vertices()), 'sampled pairs of vertices of LSCC')"
   ]
  },
  {
   "cell_type": "code",
   "execution_count": 6,
   "metadata": {},
   "outputs": [
    {
     "name": "stdout",
     "output_type": "stream",
     "text": [
      "start calculate distances\n",
      "calculate distances done\n",
      "select pairs of permutations/combinations done\n",
      "0.0 %\n",
      "5.0 %\n",
      "9.9 %\n",
      "14.9 %\n",
      "19.9 %\n",
      "24.8 %\n",
      "29.8 %\n",
      "34.8 %\n",
      "39.7 %\n",
      "44.7 %\n",
      "49.7 %\n",
      "54.6 %\n",
      "59.6 %\n",
      "64.6 %\n",
      "69.5 %\n",
      "74.5 %\n",
      "79.5 %\n",
      "84.4 %\n",
      "89.4 %\n",
      "94.4 %\n",
      "99.3 %\n",
      "median distance:\t 4.0\n",
      "mean distance:\t\t 4.41837368094\n",
      "diameter:\t\t 8\n",
      "effective diameter:\t 6.0\n",
      "CPU times: user 4min 35s, sys: 5.63 s, total: 4min 41s\n",
      "Wall time: 1min 45s\n"
     ]
    }
   ],
   "source": [
    "%%time\n",
    "lscc_dists = analysis.calculate_distances(lscc, accuracy)\n",
    "s_median, s_mean, s_diam, s_eff_diam = analysis.compute_stats(lscc_dists)\n",
    "print('median distance:\\t', s_median)\n",
    "print('mean distance:\\t\\t', s_mean)\n",
    "print('diameter:\\t\\t', s_diam)\n",
    "print('effective diameter:\\t', s_eff_diam)\n",
    "del lscc, lscc_dists"
   ]
  },
  {
   "cell_type": "code",
   "execution_count": null,
   "metadata": {},
   "outputs": [
    {
     "name": "stdout",
     "output_type": "stream",
     "text": [
      "=====LWCC=====\n",
      "LWCC edges: \t 508836\n",
      "LWCC nodes: \t 75877\n",
      "accuracy is  5.0 % corresponds to  3793 sampled pairs of vertices of LWCC\n",
      "CPU times: user 30 ms, sys: 0 ns, total: 30 ms\n",
      "Wall time: 25 ms\n"
     ]
    }
   ],
   "source": [
    "%%time\n",
    "print('=====LWCC=====')\n",
    "lwcc = analysis.calculate_largest_weakly_connected_comp(g)\n",
    "print('LWCC edges: \\t', lwcc.num_edges())\n",
    "print('LWCC nodes: \\t', lwcc.num_vertices())\n",
    "print('accuracy is ', accuracy * 100, '% corresponds to ', int(accuracy * lwcc.num_vertices()), 'sampled pairs of vertices of LWCC')"
   ]
  },
  {
   "cell_type": "markdown",
   "metadata": {},
   "source": [
    "# in the following computation is where the kernel dies :/ "
   ]
  },
  {
   "cell_type": "code",
   "execution_count": null,
   "metadata": {
    "collapsed": true
   },
   "outputs": [],
   "source": [
    "%%time\n",
    "lwcc_dists = analysis.calculate_distances(lwcc, accuracy)\n",
    "w_median, w_mean, w_diam, w_eff_diam = analysis.compute_stats(lwcc_dists)\n",
    "print('median distance:\\t', w_median)\n",
    "print('mean distance:\\t\\t', w_mean)\n",
    "print('diameter:\\t\\t', w_diam)\n",
    "print('effective diameter:\\t', w_eff_diam)"
   ]
  }
 ],
 "metadata": {
  "kernelspec": {
   "display_name": "Python 3",
   "language": "python",
   "name": "python3"
  },
  "language_info": {
   "codemirror_mode": {
    "name": "ipython",
    "version": 3
   },
   "file_extension": ".py",
   "mimetype": "text/x-python",
   "name": "python",
   "nbconvert_exporter": "python",
   "pygments_lexer": "ipython3",
   "version": "3.6.3"
  }
 },
 "nbformat": 4,
 "nbformat_minor": 2
}
