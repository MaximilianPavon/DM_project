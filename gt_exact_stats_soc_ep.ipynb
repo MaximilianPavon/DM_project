{
 "cells": [
  {
   "cell_type": "code",
   "execution_count": 1,
   "metadata": {
    "collapsed": true
   },
   "outputs": [],
   "source": [
    "import analysis\n",
    "import time\n",
    "import graph_tool"
   ]
  },
  {
   "cell_type": "code",
   "execution_count": 2,
   "metadata": {
    "collapsed": true
   },
   "outputs": [],
   "source": [
    "filenames = ['soc-Epinions1 Kopie.txt']"
   ]
  },
  {
   "cell_type": "code",
   "execution_count": 3,
   "metadata": {},
   "outputs": [
    {
     "name": "stdout",
     "output_type": "stream",
     "text": [
      "vertices: 75888 edges: 508837\n",
      "CPU times: user 530 ms, sys: 50 ms, total: 580 ms\n",
      "Wall time: 572 ms\n"
     ]
    }
   ],
   "source": [
    "%%time\n",
    "g = analysis.load_graph(filenames[0], directed=True)\n",
    "print('vertices:', g.num_vertices(), 'edges:', g.num_edges())"
   ]
  },
  {
   "cell_type": "code",
   "execution_count": null,
   "metadata": {},
   "outputs": [
    {
     "name": "stdout",
     "output_type": "stream",
     "text": [
      "=====LSCC=====\n",
      "LSCC edges: \t 443506\n",
      "LSCC nodes: \t 32223\n",
      "0.0 %\n",
      "0.192618525081449 %\n",
      "0.385237050162898 %\n",
      "0.5778555752443469 %\n",
      "0.770474100325796 %\n",
      "0.963092625407245 %\n",
      "1.1557111504886939 %\n",
      "1.348329675570143 %\n",
      "1.540948200651592 %\n",
      "1.733566725733041 %\n",
      "1.92618525081449 %\n",
      "2.1188037758959393 %\n",
      "2.3114223009773878 %\n",
      "2.504040826058837 %\n",
      "2.696659351140286 %\n",
      "2.889277876221735 %\n",
      "3.081896401303184 %\n",
      "3.2745149263846334 %\n",
      "3.467133451466082 %\n",
      "3.659751976547531 %\n",
      "3.85237050162898 %\n",
      "4.04498902671043 %\n",
      "4.2376075517918785 %\n",
      "4.4302260768733275 %\n",
      "4.6228446019547755 %\n",
      "4.815463127036225 %\n",
      "5.008081652117674 %\n",
      "5.200700177199123 %\n",
      "5.393318702280572 %\n",
      "5.585937227362021 %\n",
      "5.77855575244347 %\n",
      "5.971174277524919 %\n",
      "6.163792802606368 %\n",
      "6.356411327687818 %\n",
      "6.549029852769267 %\n",
      "6.741648377850715 %\n",
      "6.934266902932164 %\n",
      "7.126885428013613 %\n",
      "7.319503953095062 %\n",
      "7.5121224781765115 %\n",
      "7.70474100325796 %\n",
      "7.897359528339409 %\n",
      "8.08997805342086 %\n",
      "8.282596578502307 %\n",
      "8.475215103583757 %\n",
      "8.667833628665205 %\n",
      "8.860452153746655 %\n",
      "9.053070678828105 %\n"
     ]
    }
   ],
   "source": [
    "%%time\n",
    "print('=====LSCC=====')\n",
    "\n",
    "lscc = analysis.calculate_largest_strongly_connected_comp(g)\n",
    "\n",
    "print('LSCC edges: \\t', lscc.num_edges())\n",
    "print('LSCC nodes: \\t', lscc.num_vertices())\n",
    "\n",
    "lscc_dists = analysis.calculate_distances(lscc)\n",
    "\n",
    "s_median, s_mean, s_diam, s_eff_diam = analysis.compute_stats(lscc_dists)\n",
    "\n",
    "print('median distance:\\t', s_median)\n",
    "print('mean distance:\\t\\t', s_mean)\n",
    "print('diameter:\\t\\t', s_diam)\n",
    "print('effective diameter:\\t', s_eff_diam)"
   ]
  },
  {
   "cell_type": "code",
   "execution_count": null,
   "metadata": {},
   "outputs": [],
   "source": [
    "%%time\n",
    "print('=====LWCC=====')\n",
    "lwcc = analysis.calculate_largest_weakly_connected_comp(g)\n",
    "\n",
    "print('LWCC edges: \\t', lwcc.num_edges())\n",
    "print('LWCC nodes: \\t', lwcc.num_vertices())\n",
    "\n",
    "lwcc_dists = analysis.calculate_distances(lwcc)\n",
    "\n",
    "w_median, w_mean, w_diam, w_eff_diam = analysis.compute_stats(lwcc_dists)\n",
    "\n",
    "print('median distance:\\t', w_median)\n",
    "print('mean distance:\\t\\t', w_mean)\n",
    "print('diameter:\\t\\t', w_diam)\n",
    "print('effective diameter:\\t', w_eff_diam)"
   ]
  }
 ],
 "metadata": {
  "kernelspec": {
   "display_name": "Python 3",
   "language": "python",
   "name": "python3"
  },
  "language_info": {
   "codemirror_mode": {
    "name": "ipython",
    "version": 3
   },
   "file_extension": ".py",
   "mimetype": "text/x-python",
   "name": "python",
   "nbconvert_exporter": "python",
   "pygments_lexer": "ipython3",
   "version": "3.6.3"
  }
 },
 "nbformat": 4,
 "nbformat_minor": 2
}
