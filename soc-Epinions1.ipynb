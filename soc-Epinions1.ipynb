{
 "cells": [
  {
   "cell_type": "code",
   "execution_count": 1,
   "metadata": {},
   "outputs": [],
   "source": [
    "%matplotlib inline\n",
    "\n",
    "import numpy as np\n",
    "import matplotlib as mpl\n",
    "import matplotlib.pyplot as plt\n",
    "import networkx as nx\n",
    "\n",
    "import time\n",
    "import numpy as np"
   ]
  },
  {
   "cell_type": "code",
   "execution_count": 2,
   "metadata": {},
   "outputs": [
    {
     "name": "stdout",
     "output_type": "stream",
     "text": [
      "CPU times: user 4.05 s, sys: 140 ms, total: 4.19 s\n",
      "Wall time: 4.21 s\n"
     ]
    }
   ],
   "source": [
    "%%time\n",
    "\n",
    "path_to_file = './data/soc-Epinions1/soc-Epinions1.txt'\n",
    "G_dir = nx.read_edgelist(path_to_file, comments='#', delimiter='\\t', nodetype=int, create_using=nx.DiGraph())\n",
    "G_undir = nx.read_edgelist(path_to_file, comments='#', delimiter='\\t', nodetype=int)"
   ]
  },
  {
   "cell_type": "code",
   "execution_count": null,
   "metadata": {},
   "outputs": [],
   "source": [
    "%%time\n",
    "LSCC = max(nx.strongly_connected_component_subgraphs(G_dir), key=len)"
   ]
  },
  {
   "cell_type": "code",
   "execution_count": null,
   "metadata": {},
   "outputs": [
    {
     "name": "stdout",
     "output_type": "stream",
     "text": [
      "CPU times: user 3.12 s, sys: 100 ms, total: 3.22 s\n",
      "Wall time: 3.29 s\n"
     ]
    }
   ],
   "source": [
    "%%time\n",
    "LWCC = max(nx.weakly_connected_component_subgraphs(G_dir), key=len)\n",
    "LWCC = nx.to_undirected(LWCC)"
   ]
  },
  {
   "cell_type": "code",
   "execution_count": null,
   "metadata": {},
   "outputs": [],
   "source": [
    "%%time\n",
    "print('LSCC edges: \\t', LSCC.number_of_edges())\n",
    "print('LSCC nodes: \\t', LSCC.number_of_nodes())\n",
    "\n",
    "print('LWCC edges: \\t',LWCC.number_of_edges())\n",
    "print('LWCC nodes: \\t',LWCC.number_of_nodes())"
   ]
  },
  {
   "cell_type": "code",
   "execution_count": null,
   "metadata": {},
   "outputs": [],
   "source": [
    "%%time\n",
    "length_dir = dict(nx.all_pairs_shortest_path_length(LSCC))"
   ]
  },
  {
   "cell_type": "code",
   "execution_count": null,
   "metadata": {},
   "outputs": [],
   "source": [
    "%%time\n",
    "LSCC_nodes = LSCC.nodes()\n",
    "dist_dir = []\n",
    "for node_i in LSCC_nodes:\n",
    "    for node_j in LSCC_nodes:\n",
    "        if node_i != node_j:\n",
    "            dist_dir.append(length_dir[node_i][node_j])\n",
    "        \n",
    "print('median distance:\\t',np.percentile(dist_dir,50))\n",
    "print('mean distance:\\t',np.mean(dist_dir))\n",
    "print('diameter:\\t',np.max(dist_dir))\n",
    "print('effective diameter:\\t',np.percentile(dist_dir,90))"
   ]
  },
  {
   "cell_type": "code",
   "execution_count": null,
   "metadata": {},
   "outputs": [],
   "source": [
    "%%time\n",
    "length_undir = dict(nx.all_pairs_shortest_path_length(LWCC))"
   ]
  },
  {
   "cell_type": "code",
   "execution_count": null,
   "metadata": {},
   "outputs": [],
   "source": [
    "%%time\n",
    "dist_undir = []\n",
    "LWCC_nodes = LWCC.nodes()\n",
    "for node_i in LWCC_nodes:\n",
    "    for node_j in LWCC_nodes:\n",
    "        if node_i != node_j:\n",
    "            dist_undir.append(length_undir[node_i][node_j])\n",
    "        \n",
    "print('median distance:\\t',np.percentile(dist_undir,50))\n",
    "print('mean distance:\\t',np.mean(dist_undir))\n",
    "print('diameter:\\t',np.max(dist_undir))\n",
    "print('effective diameter:\\t',np.percentile(dist_undir,90))"
   ]
  },
  {
   "cell_type": "code",
   "execution_count": null,
   "metadata": {},
   "outputs": [],
   "source": []
  }
 ],
 "metadata": {
  "kernelspec": {
   "display_name": "Python 3",
   "language": "python",
   "name": "python3"
  },
  "language_info": {
   "codemirror_mode": {
    "name": "ipython",
    "version": 3
   },
   "file_extension": ".py",
   "mimetype": "text/x-python",
   "name": "python",
   "nbconvert_exporter": "python",
   "pygments_lexer": "ipython3",
   "version": "3.6.3"
  }
 },
 "nbformat": 4,
 "nbformat_minor": 2
}
