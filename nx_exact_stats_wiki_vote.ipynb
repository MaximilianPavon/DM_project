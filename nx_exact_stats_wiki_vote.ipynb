{
 "cells": [
  {
   "cell_type": "code",
   "execution_count": 1,
   "metadata": {},
   "outputs": [],
   "source": [
    "%matplotlib inline\n",
    "import analysis_nx\n",
    "import time"
   ]
  },
  {
   "cell_type": "code",
   "execution_count": 2,
   "metadata": {},
   "outputs": [
    {
     "name": "stdout",
     "output_type": "stream",
     "text": [
      "CPU times: user 369 ms, sys: 17.8 ms, total: 387 ms\n",
      "Wall time: 389 ms\n"
     ]
    }
   ],
   "source": [
    "%%time\n",
    "path_to_file = './data/wiki-Vote/wiki-Vote.txt'\n",
    "g = analysis_nx.load_graph(path_to_file, True)"
   ]
  },
  {
   "cell_type": "code",
   "execution_count": 3,
   "metadata": {},
   "outputs": [
    {
     "name": "stdout",
     "output_type": "stream",
     "text": [
      "LSCC edges: \t 39456\n",
      "LSCC nodes: \t 1300\n",
      "CPU times: user 17.8 s, sys: 28.8 ms, total: 17.9 s\n",
      "Wall time: 17.9 s\n"
     ]
    }
   ],
   "source": [
    "%%time\n",
    "LSCC = analysis_nx.calculate_largest_strongly_connected_comp(g)\n",
    "print('LSCC edges: \\t', LSCC.number_of_edges())\n",
    "print('LSCC nodes: \\t', LSCC.number_of_nodes())"
   ]
  },
  {
   "cell_type": "code",
   "execution_count": 4,
   "metadata": {},
   "outputs": [
    {
     "name": "stdout",
     "output_type": "stream",
     "text": [
      "4 cores used\n",
      "CPU times: user 548 ms, sys: 98.7 ms, total: 647 ms\n",
      "Wall time: 10.1 s\n"
     ]
    }
   ],
   "source": [
    "%%time\n",
    "LSCC_dist = analysis_nx.compute_shortest_path_distances_parallel_mp(LSCC)"
   ]
  },
  {
   "cell_type": "code",
   "execution_count": 5,
   "metadata": {},
   "outputs": [
    {
     "name": "stdout",
     "output_type": "stream",
     "text": [
      "=====LSCC=====\n",
      "median distance:\t 3.0\n",
      "mean distance:\t\t 2.87706804734\n",
      "diameter:\t\t 9\n",
      "effective diameter:\t 4.0\n",
      "CPU times: user 346 ms, sys: 18.2 ms, total: 365 ms\n",
      "Wall time: 364 ms\n"
     ]
    }
   ],
   "source": [
    "%%time\n",
    "s_median, s_mean, s_diam, s_eff_diam = analysis_nx.compute_stats(LSCC_dist)\n",
    "print('=====LSCC=====')\n",
    "print('median distance:\\t', s_median)\n",
    "print('mean distance:\\t\\t', s_mean)\n",
    "print('diameter:\\t\\t', s_diam)\n",
    "print('effective diameter:\\t', s_eff_diam)"
   ]
  },
  {
   "cell_type": "code",
   "execution_count": 6,
   "metadata": {},
   "outputs": [
    {
     "name": "stdout",
     "output_type": "stream",
     "text": [
      "LWCC edges: \t 103663\n",
      "LWCC nodes: \t 7066\n",
      "CPU times: user 516 ms, sys: 19.5 ms, total: 536 ms\n",
      "Wall time: 536 ms\n"
     ]
    }
   ],
   "source": [
    "%%time\n",
    "LWCC = analysis_nx.calculate_largest_weakly_connected_comp(g)\n",
    "print('LWCC edges: \\t',LWCC.number_of_edges())\n",
    "print('LWCC nodes: \\t',LWCC.number_of_nodes())"
   ]
  },
  {
   "cell_type": "code",
   "execution_count": 7,
   "metadata": {},
   "outputs": [
    {
     "name": "stdout",
     "output_type": "stream",
     "text": [
      "4 cores used\n",
      "CPU times: user 10.3 s, sys: 2.21 s, total: 12.6 s\n",
      "Wall time: 9min 47s\n"
     ]
    }
   ],
   "source": [
    "%%time\n",
    "LWCC_dist = analysis_nx.compute_shortest_path_distances_parallel_mp(LWCC)"
   ]
  },
  {
   "cell_type": "code",
   "execution_count": 11,
   "metadata": {},
   "outputs": [
    {
     "name": "stdout",
     "output_type": "stream",
     "text": [
      "=====LSCC=====\n",
      "median distance:\t 3.0\n",
      "mean distance:\t\t 2.87706804734\n",
      "diameter:\t\t 9\n",
      "effective diameter:\t 4.0\n",
      "\n",
      "=====LWCC=====\n",
      "median distance:\t 3.0\n",
      "mean distance:\t\t 3.24705039357\n",
      "diameter:\t\t 7\n",
      "effective diameter:\t 4.0\n",
      "CPU times: user 10.9 s, sys: 857 ms, total: 11.7 s\n",
      "Wall time: 11.9 s\n"
     ]
    }
   ],
   "source": [
    "%%time\n",
    "w_median, w_mean, w_diam, w_eff_diam = analysis_nx.compute_stats(LWCC_dist)\n",
    "print('=====LWCC=====')\n",
    "print('median distance:\\t', w_median)\n",
    "print('mean distance:\\t\\t', w_mean)\n",
    "print('diameter:\\t\\t', w_diam)\n",
    "print('effective diameter:\\t', w_eff_diam)"
   ]
  }
 ],
 "metadata": {
  "kernelspec": {
   "display_name": "Python 3",
   "language": "python",
   "name": "python3"
  },
  "language_info": {
   "codemirror_mode": {
    "name": "ipython",
    "version": 3
   },
   "file_extension": ".py",
   "mimetype": "text/x-python",
   "name": "python",
   "nbconvert_exporter": "python",
   "pygments_lexer": "ipython3",
   "version": "3.6.3"
  }
 },
 "nbformat": 4,
 "nbformat_minor": 2
}
