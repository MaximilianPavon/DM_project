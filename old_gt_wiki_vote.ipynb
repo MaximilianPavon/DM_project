{
 "cells": [
  {
   "cell_type": "code",
   "execution_count": 15,
   "metadata": {
    "collapsed": true
   },
   "outputs": [],
   "source": [
    "from graph_tool.all import *\n",
    "from graph_tool import topology\n",
    "from graph_tool import draw\n",
    "\n",
    "%matplotlib inline\n",
    "\n",
    "import numpy as np\n",
    "import matplotlib as mpl\n",
    "import matplotlib.pyplot as plt\n",
    "import time\n",
    "import csv\n",
    "import itertools"
   ]
  },
  {
   "cell_type": "code",
   "execution_count": 2,
   "metadata": {
    "collapsed": true
   },
   "outputs": [],
   "source": [
    "path_to_file = './data/wiki-Vote/wiki-Vote.txt'"
   ]
  },
  {
   "cell_type": "markdown",
   "metadata": {},
   "source": [
    "# this way of loading the graph does not work as it mapped the original vertex index label to its own"
   ]
  },
  {
   "cell_type": "markdown",
   "metadata": {
    "collapsed": true
   },
   "source": [
    "```python\n",
    "%%time\n",
    "G_dir = load_graph_from_csv(path_to_file, directed=True,csv_options={'delimiter': '\\t'})\n",
    "G_undir = G_dir\n",
    "G_undir.set_directed(False)\n",
    "\n",
    "#G_undir = load_graph_from_csv(path_to_file, directed=False,csv_options={'delimiter': '\\t'})\n",
    "```"
   ]
  },
  {
   "cell_type": "markdown",
   "metadata": {},
   "source": [
    "# manually load the graph"
   ]
  },
  {
   "cell_type": "code",
   "execution_count": 54,
   "metadata": {
    "collapsed": true
   },
   "outputs": [],
   "source": [
    "g = Graph(directed=True)"
   ]
  },
  {
   "cell_type": "code",
   "execution_count": 55,
   "metadata": {
    "collapsed": true
   },
   "outputs": [],
   "source": [
    "with open(path_to_file) as f:\n",
    "    reader_network = csv.reader(f, delimiter='\\t', skipinitialspace=True)\n",
    "    g.add_edge_list(map(int, edge) for edge in reader_network)"
   ]
  },
  {
   "cell_type": "code",
   "execution_count": 56,
   "metadata": {
    "scrolled": true
   },
   "outputs": [
    {
     "name": "stdout",
     "output_type": "stream",
     "text": [
      "vertices: 8298 edges: 103689\n"
     ]
    }
   ],
   "source": [
    "print('vertices:', g.num_vertices(), 'edges:', g.num_edges())"
   ]
  },
  {
   "cell_type": "code",
   "execution_count": 43,
   "metadata": {
    "collapsed": true
   },
   "outputs": [],
   "source": [
    "#graph_draw(g, vertex_text=g.vertex_index, vertex_font_size=18, output_size=(200, 200))"
   ]
  },
  {
   "cell_type": "markdown",
   "metadata": {},
   "source": [
    "## Calulate connected components"
   ]
  },
  {
   "cell_type": "code",
   "execution_count": 58,
   "metadata": {},
   "outputs": [
    {
     "name": "stdout",
     "output_type": "stream",
     "text": [
      "CPU times: user 10 ms, sys: 0 ns, total: 10 ms\n",
      "Wall time: 4.94 ms\n"
     ]
    }
   ],
   "source": [
    "%%time\n",
    "l = topology.label_largest_component(g, directed=True)\n",
    "lscc = GraphView(g, vfilt=l)"
   ]
  },
  {
   "cell_type": "code",
   "execution_count": 63,
   "metadata": {},
   "outputs": [
    {
     "name": "stdout",
     "output_type": "stream",
     "text": [
      "CPU times: user 10 ms, sys: 0 ns, total: 10 ms\n",
      "Wall time: 4.68 ms\n"
     ]
    }
   ],
   "source": [
    "%%time\n",
    "w = topology.label_largest_component(g, directed=False)\n",
    "lwcc = GraphView(g, vfilt=w) "
   ]
  },
  {
   "cell_type": "code",
   "execution_count": 65,
   "metadata": {},
   "outputs": [
    {
     "name": "stdout",
     "output_type": "stream",
     "text": [
      "LSCC edges: \t 39456\n",
      "LSCC nodes: \t 1300\n",
      "\n",
      "LWCC edges: \t 103663\n",
      "LWCC nodes: \t 7066\n"
     ]
    }
   ],
   "source": [
    "print('LSCC edges: \\t', lscc.num_edges())\n",
    "print('LSCC nodes: \\t', lscc.num_vertices())\n",
    "print()\n",
    "print('LWCC edges: \\t', lwcc.num_edges())\n",
    "print('LWCC nodes: \\t', lwcc.num_vertices())"
   ]
  },
  {
   "cell_type": "markdown",
   "metadata": {},
   "source": [
    "## Calulate distances for LSCC"
   ]
  },
  {
   "cell_type": "code",
   "execution_count": 78,
   "metadata": {},
   "outputs": [
    {
     "name": "stdout",
     "output_type": "stream",
     "text": [
      "CPU times: user 970 ms, sys: 150 ms, total: 1.12 s\n",
      "Wall time: 445 ms\n"
     ]
    }
   ],
   "source": [
    "%%time\n",
    "lscc_distances = topology.shortest_distance(lscc, directed=True)"
   ]
  },
  {
   "cell_type": "code",
   "execution_count": 100,
   "metadata": {
    "scrolled": false
   },
   "outputs": [
    {
     "name": "stdout",
     "output_type": "stream",
     "text": [
      "0.0 %\n",
      "5.9171597633136095 %\n",
      "11.834319526627219 %\n",
      "17.75147928994083 %\n",
      "23.668639053254438 %\n",
      "29.585798816568047 %\n",
      "35.50295857988166 %\n",
      "41.42011834319527 %\n",
      "47.337278106508876 %\n",
      "53.25443786982249 %\n",
      "59.171597633136095 %\n",
      "65.08875739644971 %\n",
      "71.00591715976331 %\n",
      "76.92307692307693 %\n",
      "82.84023668639054 %\n",
      "88.75739644970415 %\n",
      "94.67455621301775 %\n",
      "CPU times: user 21.2 s, sys: 0 ns, total: 21.2 s\n",
      "Wall time: 21.1 s\n"
     ]
    }
   ],
   "source": [
    "%%time\n",
    "dist_dir = []\n",
    "counter = 0 \n",
    "for (v1, v2) in itertools.permutations(lscc.vertices(), 2):\n",
    "    dist_dir.append(lscc_distances[v1][v2])\n",
    "    \n",
    "    if (counter%100000 == 0):\n",
    "        print(counter / (lscc.num_vertices() ** 2) * 100, '%')\n",
    "    counter = counter + 1"
   ]
  },
  {
   "cell_type": "code",
   "execution_count": 101,
   "metadata": {},
   "outputs": [
    {
     "name": "stdout",
     "output_type": "stream",
     "text": [
      "median distance:\t 3.0\n",
      "mean distance:\t 2.87928288032\n",
      "diameter:\t 9\n",
      "effective diameter:\t 4.0\n"
     ]
    }
   ],
   "source": [
    "print('median distance:\\t', np.percentile(dist_dir, 50))\n",
    "print('mean distance:\\t', np.mean(dist_dir))\n",
    "print('diameter:\\t', np.max(dist_dir))\n",
    "print('effective diameter:\\t', np.percentile(dist_dir, 90))"
   ]
  },
  {
   "cell_type": "markdown",
   "metadata": {},
   "source": [
    "## Calculate distances for LWCC"
   ]
  },
  {
   "cell_type": "code",
   "execution_count": 103,
   "metadata": {},
   "outputs": [
    {
     "name": "stdout",
     "output_type": "stream",
     "text": [
      "CPU times: user 32.8 s, sys: 2.03 s, total: 34.8 s\n",
      "Wall time: 9.35 s\n"
     ]
    }
   ],
   "source": [
    "%%time\n",
    "lwcc_distances_undir = topology.shortest_distance(lwcc, directed=False)"
   ]
  },
  {
   "cell_type": "markdown",
   "metadata": {},
   "source": [
    "**Here we take combinations instead of permutations because vertices are undirected.**"
   ]
  },
  {
   "cell_type": "code",
   "execution_count": 137,
   "metadata": {
    "collapsed": true
   },
   "outputs": [],
   "source": [
    "def nCr(n,r):\n",
    "    '''Compute the number of combinations of n taking r'''\n",
    "    import math\n",
    "    f = math.factorial\n",
    "    return f(n) // f(r) // f(n-r)"
   ]
  },
  {
   "cell_type": "code",
   "execution_count": 150,
   "metadata": {
    "scrolled": false
   },
   "outputs": [
    {
     "name": "stdout",
     "output_type": "stream",
     "text": [
      "0.0 %\n",
      "8.012613456102596 %\n",
      "16.02522691220519 %\n",
      "24.03784036830779 %\n",
      "32.05045382441038 %\n",
      "40.06306728051298 %\n",
      "48.07568073661558 %\n",
      "56.08829419271818 %\n",
      "64.10090764882077 %\n",
      "72.11352110492338 %\n",
      "80.12613456102596 %\n",
      "88.13874801712856 %\n",
      "96.15136147323116 %\n",
      "CPU times: user 4min 10s, sys: 0 ns, total: 4min 10s\n",
      "Wall time: 4min 9s\n"
     ]
    }
   ],
   "source": [
    "%%time\n",
    "dist_undir = []\n",
    "counter = 0\n",
    "all_pairs = itertools.combinations(lwcc.vertices(), 2)\n",
    "num_pairs = nCr(lwcc.num_vertices(), 2)\n",
    "\n",
    "for (v1, v2) in all_pairs:\n",
    "    dist_undir.append(lwcc_distances_undir[v1][v2])\n",
    "    \n",
    "    if (counter % 2000000 == 0):\n",
    "        print(counter / num_pairs * 100, '%')\n",
    "    counter = counter + 1"
   ]
  },
  {
   "cell_type": "code",
   "execution_count": 151,
   "metadata": {},
   "outputs": [
    {
     "name": "stdout",
     "output_type": "stream",
     "text": [
      "median distance:\t 3.0\n",
      "mean distance:\t 3.24750999023\n",
      "diameter:\t 7\n",
      "effective diameter:\t 4.0\n"
     ]
    }
   ],
   "source": [
    "print('median distance:\\t', np.percentile(dist_undir, 50))\n",
    "print('mean distance:\\t', np.mean(dist_undir))\n",
    "print('diameter:\\t', np.max(dist_undir))\n",
    "print('effective diameter:\\t', np.percentile(dist_undir, 90))"
   ]
  }
 ],
 "metadata": {
  "kernelspec": {
   "display_name": "Python 3",
   "language": "python",
   "name": "python3"
  },
  "language_info": {
   "codemirror_mode": {
    "name": "ipython",
    "version": 3
   },
   "file_extension": ".py",
   "mimetype": "text/x-python",
   "name": "python",
   "nbconvert_exporter": "python",
   "pygments_lexer": "ipython3",
   "version": "3.6.3"
  }
 },
 "nbformat": 4,
 "nbformat_minor": 2
}
